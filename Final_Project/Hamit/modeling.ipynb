{
 "cells": [
  {
   "cell_type": "markdown",
   "id": "02a31695-803a-4573-9461-abe7c6bfee3a",
   "metadata": {},
   "source": [
    "# Import Libs"
   ]
  },
  {
   "cell_type": "code",
   "execution_count": 1,
   "id": "fe7edbee-2a8f-4e7e-9d20-d64f79706d8c",
   "metadata": {},
   "outputs": [],
   "source": [
    "import pandas as pd\n",
    "from sklearn.model_selection import train_test_split \n",
    "import pandas as pd\n",
    "import numpy as np\n",
    "import seaborn as sns\n",
    "import matplotlib.pyplot as plt\n",
    "from numpy import argmax\n",
    "\n",
    "from sklearn import preprocessing\n",
    "from sklearn.model_selection import train_test_split \n",
    "from sklearn.linear_model import LogisticRegression\n",
    "from sklearn import metrics\n",
    "from sklearn.metrics import accuracy_score\n",
    "from sklearn.metrics import classification_report\n",
    "from sklearn.metrics import ConfusionMatrixDisplay, confusion_matrix\n",
    "from sklearn.metrics import roc_auc_score\n",
    "from xgboost import XGBClassifier\n",
    "import ydata_profiling\n",
    "from sklearn.model_selection import GridSearchCV\n",
    "from sklearn.model_selection import KFold, cross_val_score\n",
    "from sklearn.metrics import f1_score, precision_score, recall_score\n",
    "from sklearn.tree import DecisionTreeClassifier\n",
    "from sklearn.ensemble import RandomForestClassifier\n",
    "from sklearn.svm import SVC\n",
    "from xgboost import plot_importance\n",
    "import dtreeviz.trees\n",
    "\n"
   ]
  },
  {
   "cell_type": "code",
   "execution_count": 2,
   "id": "3917fc01-95cb-4851-b9f4-ac59dec9ab72",
   "metadata": {},
   "outputs": [
    {
     "name": "stdout",
     "output_type": "stream",
     "text": [
      "Requirement already satisfied: dtreeviz in c:\\users\\administrator\\anaconda3\\lib\\site-packages (2.2.1)\n",
      "Requirement already satisfied: graphviz>=0.9 in c:\\users\\administrator\\anaconda3\\lib\\site-packages (from dtreeviz) (0.20.1)\n",
      "Requirement already satisfied: pandas in c:\\users\\administrator\\anaconda3\\lib\\site-packages (from dtreeviz) (1.4.2)\n",
      "Requirement already satisfied: numpy in c:\\users\\administrator\\anaconda3\\lib\\site-packages (from dtreeviz) (1.21.5)\n",
      "Requirement already satisfied: scikit-learn in c:\\users\\administrator\\anaconda3\\lib\\site-packages (from dtreeviz) (1.0.2)\n",
      "Requirement already satisfied: matplotlib in c:\\users\\administrator\\anaconda3\\lib\\site-packages (from dtreeviz) (3.5.1)\n",
      "Requirement already satisfied: colour in c:\\users\\administrator\\anaconda3\\lib\\site-packages (from dtreeviz) (0.1.5)\n",
      "Requirement already satisfied: pytest in c:\\users\\administrator\\anaconda3\\lib\\site-packages (from dtreeviz) (7.1.1)\n",
      "Requirement already satisfied: cycler>=0.10 in c:\\users\\administrator\\anaconda3\\lib\\site-packages (from matplotlib->dtreeviz) (0.11.0)\n",
      "Requirement already satisfied: fonttools>=4.22.0 in c:\\users\\administrator\\anaconda3\\lib\\site-packages (from matplotlib->dtreeviz) (4.25.0)\n",
      "Requirement already satisfied: kiwisolver>=1.0.1 in c:\\users\\administrator\\anaconda3\\lib\\site-packages (from matplotlib->dtreeviz) (1.3.2)\n",
      "Requirement already satisfied: packaging>=20.0 in c:\\users\\administrator\\anaconda3\\lib\\site-packages (from matplotlib->dtreeviz) (21.3)\n",
      "Requirement already satisfied: pillow>=6.2.0 in c:\\users\\administrator\\anaconda3\\lib\\site-packages (from matplotlib->dtreeviz) (9.0.1)\n",
      "Requirement already satisfied: pyparsing>=2.2.1 in c:\\users\\administrator\\anaconda3\\lib\\site-packages (from matplotlib->dtreeviz) (3.0.4)\n",
      "Requirement already satisfied: python-dateutil>=2.7 in c:\\users\\administrator\\anaconda3\\lib\\site-packages (from matplotlib->dtreeviz) (2.8.2)\n",
      "Requirement already satisfied: pytz>=2020.1 in c:\\users\\administrator\\anaconda3\\lib\\site-packages (from pandas->dtreeviz) (2021.3)\n",
      "Requirement already satisfied: attrs>=19.2.0 in c:\\users\\administrator\\anaconda3\\lib\\site-packages (from pytest->dtreeviz) (21.4.0)\n",
      "Requirement already satisfied: iniconfig in c:\\users\\administrator\\anaconda3\\lib\\site-packages (from pytest->dtreeviz) (1.1.1)\n",
      "Requirement already satisfied: pluggy<2.0,>=0.12 in c:\\users\\administrator\\anaconda3\\lib\\site-packages (from pytest->dtreeviz) (1.0.0)\n",
      "Requirement already satisfied: py>=1.8.2 in c:\\users\\administrator\\anaconda3\\lib\\site-packages (from pytest->dtreeviz) (1.11.0)\n",
      "Requirement already satisfied: tomli>=1.0.0 in c:\\users\\administrator\\anaconda3\\lib\\site-packages (from pytest->dtreeviz) (1.2.2)\n",
      "Requirement already satisfied: atomicwrites>=1.0 in c:\\users\\administrator\\anaconda3\\lib\\site-packages (from pytest->dtreeviz) (1.4.0)\n",
      "Requirement already satisfied: colorama in c:\\users\\administrator\\anaconda3\\lib\\site-packages (from pytest->dtreeviz) (0.4.6)\n",
      "Requirement already satisfied: scipy>=1.1.0 in c:\\users\\administrator\\anaconda3\\lib\\site-packages (from scikit-learn->dtreeviz) (1.7.3)\n",
      "Requirement already satisfied: joblib>=0.11 in c:\\users\\administrator\\anaconda3\\lib\\site-packages (from scikit-learn->dtreeviz) (1.1.0)\n",
      "Requirement already satisfied: threadpoolctl>=2.0.0 in c:\\users\\administrator\\anaconda3\\lib\\site-packages (from scikit-learn->dtreeviz) (2.2.0)\n",
      "Requirement already satisfied: six>=1.5 in c:\\users\\administrator\\anaconda3\\lib\\site-packages (from python-dateutil>=2.7->matplotlib->dtreeviz) (1.16.0)\n",
      "Note: you may need to restart the kernel to use updated packages.\n"
     ]
    }
   ],
   "source": [
    "pip install dtreeviz"
   ]
  },
  {
   "cell_type": "markdown",
   "id": "81cd38a6-117d-4fb9-99da-b57dbd225253",
   "metadata": {},
   "source": [
    "# Import Data"
   ]
  },
  {
   "cell_type": "code",
   "execution_count": 3,
   "id": "3d21b381-2986-4db5-9696-828965129535",
   "metadata": {},
   "outputs": [],
   "source": [
    "seed = 104"
   ]
  },
  {
   "cell_type": "code",
   "execution_count": 4,
   "id": "7a65c41e-6dd9-4672-933f-88cadd5d058b",
   "metadata": {},
   "outputs": [],
   "source": [
    "df = pd.read_csv('data/clean_ismek.csv')"
   ]
  },
  {
   "cell_type": "code",
   "execution_count": 5,
   "id": "f59b370f-84dd-4e95-b2c7-8fa7cc91f7ce",
   "metadata": {},
   "outputs": [
    {
     "data": {
      "text/plain": [
       "(216765, 9)"
      ]
     },
     "execution_count": 5,
     "metadata": {},
     "output_type": "execute_result"
    }
   ],
   "source": [
    "df.shape"
   ]
  },
  {
   "cell_type": "code",
   "execution_count": 6,
   "id": "de76395a-e384-401f-829a-cae1b5ccbd43",
   "metadata": {
    "tags": []
   },
   "outputs": [
    {
     "name": "stdout",
     "output_type": "stream",
     "text": [
      "<class 'pandas.core.frame.DataFrame'>\n",
      "RangeIndex: 216765 entries, 0 to 216764\n",
      "Data columns (total 9 columns):\n",
      " #   Column                 Non-Null Count   Dtype \n",
      "---  ------                 --------------   ----- \n",
      " 0   egitim_durumu          216765 non-null  object\n",
      " 1   calisma_durumu         216765 non-null  object\n",
      " 2   alan                   216765 non-null  object\n",
      " 3   program                216765 non-null  object\n",
      " 4   hak_edilen_belge_tipi  216765 non-null  object\n",
      " 5   kurs_merkezi           216765 non-null  object\n",
      " 6   kurs_merkezi_ilcesi    216765 non-null  object\n",
      " 7   tercih_sebebi          216765 non-null  object\n",
      " 8   yas_araligi            216765 non-null  object\n",
      "dtypes: object(9)\n",
      "memory usage: 14.9+ MB\n"
     ]
    }
   ],
   "source": [
    "df.info() # all columns are objects data tpye"
   ]
  },
  {
   "cell_type": "code",
   "execution_count": 7,
   "id": "7d14b9b7-0638-4aa7-b42d-f31e19182725",
   "metadata": {},
   "outputs": [
    {
     "data": {
      "text/html": [
       "<div>\n",
       "<style scoped>\n",
       "    .dataframe tbody tr th:only-of-type {\n",
       "        vertical-align: middle;\n",
       "    }\n",
       "\n",
       "    .dataframe tbody tr th {\n",
       "        vertical-align: top;\n",
       "    }\n",
       "\n",
       "    .dataframe thead th {\n",
       "        text-align: right;\n",
       "    }\n",
       "</style>\n",
       "<table border=\"1\" class=\"dataframe\">\n",
       "  <thead>\n",
       "    <tr style=\"text-align: right;\">\n",
       "      <th></th>\n",
       "      <th>egitim_durumu</th>\n",
       "      <th>calisma_durumu</th>\n",
       "      <th>alan</th>\n",
       "      <th>program</th>\n",
       "      <th>hak_edilen_belge_tipi</th>\n",
       "      <th>kurs_merkezi</th>\n",
       "      <th>kurs_merkezi_ilcesi</th>\n",
       "      <th>tercih_sebebi</th>\n",
       "      <th>yas_araligi</th>\n",
       "    </tr>\n",
       "  </thead>\n",
       "  <tbody>\n",
       "    <tr>\n",
       "      <th>0</th>\n",
       "      <td>Lisans</td>\n",
       "      <td>Ogrenci</td>\n",
       "      <td>Dil Egitimleri</td>\n",
       "      <td>Ingilizce A2 Seviyesi</td>\n",
       "      <td>Hak Etmedi</td>\n",
       "      <td>Dil Okulu</td>\n",
       "      <td>Sisli</td>\n",
       "      <td>Meslek Edinmek, Meslegimde Ýlerlemek</td>\n",
       "      <td>20-30 Yas Arasi</td>\n",
       "    </tr>\n",
       "    <tr>\n",
       "      <th>1</th>\n",
       "      <td>Lise</td>\n",
       "      <td>Calismiyor</td>\n",
       "      <td>Spor</td>\n",
       "      <td>Fitness (Kadin)</td>\n",
       "      <td>Ismek Sertifika</td>\n",
       "      <td>Silivri Spor Egitim Merkezi</td>\n",
       "      <td>Silivri</td>\n",
       "      <td>Sanat,Muzik,Spor Vb. Yeteneklerimi Gelistirmek</td>\n",
       "      <td>20-30 Yas Arasi</td>\n",
       "    </tr>\n",
       "    <tr>\n",
       "      <th>2</th>\n",
       "      <td>Lisans</td>\n",
       "      <td>Ogrenci</td>\n",
       "      <td>Dil Egitimleri</td>\n",
       "      <td>Ingilizce A1 Seviyesi</td>\n",
       "      <td>Meb Sertifika</td>\n",
       "      <td>Tuzla Yayla Mahallesi</td>\n",
       "      <td>Tuzla</td>\n",
       "      <td>Meslek Edinmek, Meslegimde Ýlerlemek</td>\n",
       "      <td>30-40 Yas Arasi</td>\n",
       "    </tr>\n",
       "    <tr>\n",
       "      <th>3</th>\n",
       "      <td>Lisans</td>\n",
       "      <td>Ogrenci</td>\n",
       "      <td>Spor</td>\n",
       "      <td>Crunch (Kadin)</td>\n",
       "      <td>Hak Etmedi</td>\n",
       "      <td>Atasehir Kayisdagi</td>\n",
       "      <td>Atasehir</td>\n",
       "      <td>Sanat,Muzik,Spor Vb. Yeteneklerimi Gelistirmek</td>\n",
       "      <td>20 Yas Alti</td>\n",
       "    </tr>\n",
       "    <tr>\n",
       "      <th>4</th>\n",
       "      <td>Lisans</td>\n",
       "      <td>Ogrenci</td>\n",
       "      <td>Spor</td>\n",
       "      <td>Stretching (Kadin)</td>\n",
       "      <td>Hak Etmedi</td>\n",
       "      <td>Atasehir Kayisdagi</td>\n",
       "      <td>Atasehir</td>\n",
       "      <td>Sanat,Muzik,Spor Vb. Yeteneklerimi Gelistirmek</td>\n",
       "      <td>20 Yas Alti</td>\n",
       "    </tr>\n",
       "  </tbody>\n",
       "</table>\n",
       "</div>"
      ],
      "text/plain": [
       "  egitim_durumu calisma_durumu            alan                program  \\\n",
       "0        Lisans        Ogrenci  Dil Egitimleri  Ingilizce A2 Seviyesi   \n",
       "1          Lise     Calismiyor            Spor        Fitness (Kadin)   \n",
       "2        Lisans        Ogrenci  Dil Egitimleri  Ingilizce A1 Seviyesi   \n",
       "3        Lisans        Ogrenci            Spor         Crunch (Kadin)   \n",
       "4        Lisans        Ogrenci            Spor     Stretching (Kadin)   \n",
       "\n",
       "  hak_edilen_belge_tipi                 kurs_merkezi kurs_merkezi_ilcesi  \\\n",
       "0            Hak Etmedi                    Dil Okulu               Sisli   \n",
       "1       Ismek Sertifika  Silivri Spor Egitim Merkezi             Silivri   \n",
       "2         Meb Sertifika        Tuzla Yayla Mahallesi               Tuzla   \n",
       "3            Hak Etmedi           Atasehir Kayisdagi            Atasehir   \n",
       "4            Hak Etmedi           Atasehir Kayisdagi            Atasehir   \n",
       "\n",
       "                                    tercih_sebebi      yas_araligi  \n",
       "0            Meslek Edinmek, Meslegimde Ýlerlemek  20-30 Yas Arasi  \n",
       "1  Sanat,Muzik,Spor Vb. Yeteneklerimi Gelistirmek  20-30 Yas Arasi  \n",
       "2            Meslek Edinmek, Meslegimde Ýlerlemek  30-40 Yas Arasi  \n",
       "3  Sanat,Muzik,Spor Vb. Yeteneklerimi Gelistirmek      20 Yas Alti  \n",
       "4  Sanat,Muzik,Spor Vb. Yeteneklerimi Gelistirmek      20 Yas Alti  "
      ]
     },
     "execution_count": 7,
     "metadata": {},
     "output_type": "execute_result"
    }
   ],
   "source": [
    "df.head()"
   ]
  },
  {
   "cell_type": "markdown",
   "id": "f2bc37fe-44ec-4582-a0a7-6530fd914940",
   "metadata": {},
   "source": [
    "# HEPFUL FUNCTIONS"
   ]
  },
  {
   "cell_type": "code",
   "execution_count": 8,
   "id": "41a09191-06b0-4b46-b4b1-9a47096aa16a",
   "metadata": {},
   "outputs": [],
   "source": [
    "def label_encoding(df, target):\n",
    "    for i in df.columns:\n",
    "        label_encoder = preprocessing.LabelEncoder()\n",
    "\n",
    "        # Encode labels in column 'species'.\n",
    "        df[i]= label_encoder.fit_transform(df[i])\n",
    "        \n",
    "        if i == target:\n",
    "            target_mapping = {l: i for i, l in enumerate(label_encoder.classes_)}\n",
    "            print(target_mapping) # for target\n",
    "        \n",
    "    return df, target_mapping "
   ]
  },
  {
   "cell_type": "code",
   "execution_count": 9,
   "id": "b60c933c-8736-49bd-8288-2b1abb68d38a",
   "metadata": {},
   "outputs": [],
   "source": [
    "def get_X_y(df, target):\n",
    "    y = df[target].values\n",
    "    del df[target]\n",
    "    X = df\n",
    "    \n",
    "    return X,y"
   ]
  },
  {
   "cell_type": "code",
   "execution_count": 10,
   "id": "f2f72a28-2bac-48ba-9d18-774c07da8d24",
   "metadata": {},
   "outputs": [],
   "source": [
    "def get_selected_info(df, column, selected_list):\n",
    "    new_df = pd.DataFrame()\n",
    "    for col in selected_list:\n",
    "        new_df = pd.concat([new_df, df[(df[column] == col)]])\n",
    "        \n",
    "    return new_df.reset_index(drop=True)"
   ]
  },
  {
   "cell_type": "code",
   "execution_count": null,
   "id": "8d61d952-629c-4b2f-a8d9-a98eacf42870",
   "metadata": {},
   "outputs": [],
   "source": [
    "\n",
    "\n",
    "    "
   ]
  },
  {
   "cell_type": "code",
   "execution_count": null,
   "id": "236ba271-3a37-4b5a-b310-08feb7813217",
   "metadata": {},
   "outputs": [],
   "source": []
  },
  {
   "cell_type": "code",
   "execution_count": null,
   "id": "651ff10b-3556-4474-9fa5-fb28bb39c831",
   "metadata": {},
   "outputs": [],
   "source": []
  },
  {
   "cell_type": "markdown",
   "id": "bdb4ddca-4f1b-44e8-b28c-896022464eac",
   "metadata": {},
   "source": [
    "# ALAN MODELING"
   ]
  },
  {
   "cell_type": "code",
   "execution_count": 11,
   "id": "97d23dab-ae39-4d2c-8b40-2d56a64ca657",
   "metadata": {},
   "outputs": [],
   "source": [
    "top_areas = ['Bilisim Teknolojileri', 'Spor','Grafik Ve Teknik Tasarim', 'Dil Egitimleri', 'Kisisel Gelisim Ve Egitim']\n",
    "\n",
    "# tahmin yaptircagimiz alanlar bunlar "
   ]
  },
  {
   "cell_type": "markdown",
   "id": "78974719-17bb-4ef8-898a-1476a1aa3d7d",
   "metadata": {},
   "source": [
    "- Burada Uzaktan egtim tercih edenler icin %77si 'Bilisim Teknolojileri' alanini sectigi icn f2f ve online olarak iki model olusuturmayi dusunuyorum online olan modelde kurs_merkezi bilgisi olmayacak. \n",
    "- 'Bilisim Teknolojileri' ya da 'Grafik Ve Teknik Tasarim','Kisisel Gelisim Ve Egitim' olup olmadigini tahmin etmeye calisacak. diger ozellikleriden."
   ]
  },
  {
   "cell_type": "markdown",
   "id": "e3c937a4-a21d-49c2-a1b5-35c9397727a2",
   "metadata": {
    "tags": [],
    "toc-hr-collapsed": true
   },
   "source": [
    "## Top areas"
   ]
  },
  {
   "cell_type": "code",
   "execution_count": 12,
   "id": "d641173d-3fa1-45bf-9f3d-c3cfae6f41d0",
   "metadata": {},
   "outputs": [],
   "source": [
    "df_top_areas = df.copy()"
   ]
  },
  {
   "cell_type": "code",
   "execution_count": 13,
   "id": "673efcdb-e3ea-4900-a17d-14e938687389",
   "metadata": {},
   "outputs": [],
   "source": [
    "# del df_online['kurs_merkezi']\n",
    "del df_top_areas['program']\n",
    "# del df_online['kurs_merkezi_ilcesi']"
   ]
  },
  {
   "cell_type": "code",
   "execution_count": null,
   "id": "d0d73a9d-c840-4db8-8678-b14330b20ad4",
   "metadata": {},
   "outputs": [],
   "source": []
  },
  {
   "cell_type": "code",
   "execution_count": 14,
   "id": "86a5b92e-8e35-44b4-98d4-157cc1b2b029",
   "metadata": {},
   "outputs": [],
   "source": [
    "df_top_areas = get_selected_info(df_top_areas,'alan', top_areas)"
   ]
  },
  {
   "cell_type": "code",
   "execution_count": 15,
   "id": "6de0dfd4-8d21-45be-9cbb-6d7f17d68660",
   "metadata": {},
   "outputs": [
    {
     "data": {
      "text/plain": [
       "(156065, 8)"
      ]
     },
     "execution_count": 15,
     "metadata": {},
     "output_type": "execute_result"
    }
   ],
   "source": [
    "df_top_areas.shape"
   ]
  },
  {
   "cell_type": "code",
   "execution_count": 16,
   "id": "3abb9c28-5142-4828-bd0b-a52037d5cc6e",
   "metadata": {},
   "outputs": [
    {
     "data": {
      "text/plain": [
       "Bilisim Teknolojileri        89580\n",
       "Spor                         23254\n",
       "Grafik Ve Teknik Tasarim     15405\n",
       "Dil Egitimleri               14271\n",
       "Kisisel Gelisim Ve Egitim    13555\n",
       "Name: alan, dtype: int64"
      ]
     },
     "execution_count": 16,
     "metadata": {},
     "output_type": "execute_result"
    }
   ],
   "source": [
    "df_top_areas.alan.value_counts()"
   ]
  },
  {
   "cell_type": "code",
   "execution_count": 17,
   "id": "c9c0d071-2187-4789-bd4e-7c1cb17824c7",
   "metadata": {},
   "outputs": [
    {
     "name": "stdout",
     "output_type": "stream",
     "text": [
      "{'Bilisim Teknolojileri': 0, 'Dil Egitimleri': 1, 'Grafik Ve Teknik Tasarim': 2, 'Kisisel Gelisim Ve Egitim': 3, 'Spor': 4}\n"
     ]
    }
   ],
   "source": [
    "df_top_areas, target_mapping = label_encoding(df_top_areas, 'alan')"
   ]
  },
  {
   "cell_type": "code",
   "execution_count": 18,
   "id": "e4f7fb38-a227-49ed-a498-10dbc9461a5c",
   "metadata": {},
   "outputs": [],
   "source": [
    "X, y = get_X_y(df_top_areas, target = 'alan')"
   ]
  },
  {
   "cell_type": "code",
   "execution_count": 19,
   "id": "f0eba073-cf75-40d0-b776-e31220fe6c6a",
   "metadata": {},
   "outputs": [
    {
     "data": {
      "text/plain": [
       "((124852, 7), (124852,), (31213, 7), (31213,))"
      ]
     },
     "execution_count": 19,
     "metadata": {},
     "output_type": "execute_result"
    }
   ],
   "source": [
    "X_train, X_test,y_train, y_test = train_test_split(X,y ,\n",
    "                               random_state=seed, \n",
    "                               test_size=0.2, \n",
    "                               shuffle=True,\n",
    "                               stratify=y)\n",
    "    \n",
    "X_train.shape , y_train.shape, X_test.shape, y_test.shape\n"
   ]
  },
  {
   "cell_type": "markdown",
   "id": "9ff60f8e-32cf-40d0-a1d3-4b1516d3add9",
   "metadata": {},
   "source": [
    "### XGBClassifier"
   ]
  },
  {
   "cell_type": "code",
   "execution_count": 20,
   "id": "e569b870-657b-439e-b60b-da274623a33b",
   "metadata": {},
   "outputs": [],
   "source": [
    "xgb_model = XGBClassifier() "
   ]
  },
  {
   "cell_type": "code",
   "execution_count": 21,
   "id": "afad0a4a-7fa8-43ab-b4e9-533515c49723",
   "metadata": {},
   "outputs": [
    {
     "data": {
      "text/plain": [
       "XGBClassifier(base_score=0.5, booster='gbtree', callbacks=None,\n",
       "              colsample_bylevel=1, colsample_bynode=1, colsample_bytree=1,\n",
       "              early_stopping_rounds=None, enable_categorical=False,\n",
       "              eval_metric=None, feature_types=None, gamma=0, gpu_id=-1,\n",
       "              grow_policy='depthwise', importance_type=None,\n",
       "              interaction_constraints='', learning_rate=0.300000012,\n",
       "              max_bin=256, max_cat_threshold=64, max_cat_to_onehot=4,\n",
       "              max_delta_step=0, max_depth=6, max_leaves=0, min_child_weight=1,\n",
       "              missing=nan, monotone_constraints='()', n_estimators=100,\n",
       "              n_jobs=0, num_parallel_tree=1, objective='multi:softprob',\n",
       "              predictor='auto', ...)"
      ]
     },
     "execution_count": 21,
     "metadata": {},
     "output_type": "execute_result"
    }
   ],
   "source": [
    "xgb_model.fit(X_train, y_train)"
   ]
  },
  {
   "cell_type": "code",
   "execution_count": 22,
   "id": "b97d3a1c-efc4-4494-a248-558a152b5a53",
   "metadata": {},
   "outputs": [
    {
     "data": {
      "text/plain": [
       "0.8235030275846602"
      ]
     },
     "execution_count": 22,
     "metadata": {},
     "output_type": "execute_result"
    }
   ],
   "source": [
    "xgb_model.score(X_test, y_test) "
   ]
  },
  {
   "cell_type": "code",
   "execution_count": 23,
   "id": "353186bb-2f8a-453c-959d-060730060edc",
   "metadata": {},
   "outputs": [],
   "source": [
    "y_pred  = xgb_model.predict(X_test)\n",
    "y_pred_proba = xgb_model.predict_proba(X_test)[::,1]"
   ]
  },
  {
   "cell_type": "markdown",
   "id": "c0fdb7fc-2b89-4054-9e02-48a083707f5d",
   "metadata": {},
   "source": [
    "#### Confusion Matrix"
   ]
  },
  {
   "cell_type": "code",
   "execution_count": 24,
   "id": "7b6f5615-903a-49a4-9d89-08505c4247a8",
   "metadata": {},
   "outputs": [
    {
     "data": {
      "image/png": "[encoded data removed]",
      "text/plain": [
       "<Figure size 432x288 with 2 Axes>"
      ]
     },
     "metadata": {
      "needs_background": "light"
     },
     "output_type": "display_data"
    }
   ],
   "source": [
    "ConfusionMatrixDisplay.from_predictions(y_test, y_pred)\n",
    "plt.show()"
   ]
  },
  {
   "cell_type": "markdown",
   "id": "e31efce7-d99e-4b7b-8f04-4702ad4a5b3b",
   "metadata": {},
   "source": [
    "#### Classification Report"
   ]
  },
  {
   "cell_type": "code",
   "execution_count": 25,
   "id": "fd609a7c-4488-48f4-8e3f-2bd8712b3814",
   "metadata": {},
   "outputs": [
    {
     "name": "stdout",
     "output_type": "stream",
     "text": [
      "              precision    recall  f1-score   support\n",
      "\n",
      "           0       0.81      0.97      0.88     17916\n",
      "           1       0.75      0.83      0.79      2854\n",
      "           2       0.72      0.04      0.08      3081\n",
      "           3       0.73      0.44      0.55      2711\n",
      "           4       0.99      0.99      0.99      4651\n",
      "\n",
      "    accuracy                           0.82     31213\n",
      "   macro avg       0.80      0.66      0.66     31213\n",
      "weighted avg       0.81      0.82      0.78     31213\n",
      "\n"
     ]
    }
   ],
   "source": [
    "print(classification_report(y_test,y_pred))"
   ]
  },
  {
   "cell_type": "code",
   "execution_count": 26,
   "id": "9f6a3458-801d-4fb9-a39b-fb90f11bd9c4",
   "metadata": {},
   "outputs": [
    {
     "data": {
      "text/plain": [
       "{'Bilisim Teknolojileri': 0,\n",
       " 'Dil Egitimleri': 1,\n",
       " 'Grafik Ve Teknik Tasarim': 2,\n",
       " 'Kisisel Gelisim Ve Egitim': 3,\n",
       " 'Spor': 4}"
      ]
     },
     "execution_count": 26,
     "metadata": {},
     "output_type": "execute_result"
    }
   ],
   "source": [
    "target_mapping"
   ]
  },
  {
   "cell_type": "markdown",
   "id": "7a7034c9-0ac9-40d5-b198-41ae50b7d168",
   "metadata": {},
   "source": [
    "#### Plot importance"
   ]
  },
  {
   "cell_type": "code",
   "execution_count": 27,
   "id": "916902ad-45a0-42ee-a801-3db1f2ccf080",
   "metadata": {},
   "outputs": [
    {
     "data": {
      "text/plain": [
       "<AxesSubplot:title={'center':'Feature importance'}, xlabel='F score', ylabel='Features'>"
      ]
     },
     "execution_count": 27,
     "metadata": {},
     "output_type": "execute_result"
    },
    {
     "data": {
      "image/png": "[encoded data removed]",
      "text/plain": [
       "<Figure size 432x288 with 1 Axes>"
      ]
     },
     "metadata": {
      "needs_background": "light"
     },
     "output_type": "display_data"
    }
   ],
   "source": [
    "plot_importance(xgb_model)"
   ]
  },
  {
   "cell_type": "code",
   "execution_count": null,
   "id": "028130d1-ec10-4f0a-8dd8-529c560cf66b",
   "metadata": {},
   "outputs": [],
   "source": []
  },
  {
   "cell_type": "markdown",
   "id": "ca313804-e30e-49ea-be2c-f42009bc371c",
   "metadata": {
    "toc-hr-collapsed": true
   },
   "source": [
    "## Online"
   ]
  },
  {
   "cell_type": "code",
   "execution_count": 28,
   "id": "08085b27-2e15-46ad-b841-644eb8ddca2a",
   "metadata": {},
   "outputs": [
    {
     "data": {
      "text/plain": [
       "(105187, 9)"
      ]
     },
     "execution_count": 28,
     "metadata": {},
     "output_type": "execute_result"
    }
   ],
   "source": [
    "df_online = df[df['kurs_merkezi'] == 'Uzaktan Egitim'].copy()\n",
    "df_online.shape"
   ]
  },
  {
   "cell_type": "code",
   "execution_count": 29,
   "id": "e3642520-1194-4ae7-84e0-a2ab8d897d9a",
   "metadata": {},
   "outputs": [
    {
     "data": {
      "text/plain": [
       "Bilisim Teknolojileri                   81235\n",
       "Grafik Ve Teknik Tasarim                14205\n",
       "Kisisel Gelisim Ve Egitim                4664\n",
       "Muhasebe Ve Finans                       3848\n",
       "Moda Tasarimi Ve Tekstil Teknolojisi     1101\n",
       "Grafik Ve Fotograf                         68\n",
       "Yabanci Diller                             46\n",
       "Cocuk Gelisimi Ve Egitimi                  20\n",
       "Name: alan, dtype: int64"
      ]
     },
     "execution_count": 29,
     "metadata": {},
     "output_type": "execute_result"
    }
   ],
   "source": [
    "df_online.alan.value_counts()"
   ]
  },
  {
   "cell_type": "code",
   "execution_count": 30,
   "id": "d859a156-8c6e-4e14-b4de-6ace03872e6d",
   "metadata": {},
   "outputs": [
    {
     "data": {
      "text/plain": [
       "Esenler    105187\n",
       "Name: kurs_merkezi_ilcesi, dtype: int64"
      ]
     },
     "execution_count": 30,
     "metadata": {},
     "output_type": "execute_result"
    }
   ],
   "source": [
    "df_online.kurs_merkezi_ilcesi.value_counts()"
   ]
  },
  {
   "cell_type": "code",
   "execution_count": 31,
   "id": "cb6fed10-1866-4fb8-9635-766cf7fba958",
   "metadata": {},
   "outputs": [],
   "source": [
    "del df_online['kurs_merkezi']\n",
    "del df_online['program']\n",
    "del df_online['kurs_merkezi_ilcesi']"
   ]
  },
  {
   "cell_type": "code",
   "execution_count": null,
   "id": "cc920500-214d-4923-85c2-c3f368f5d7ae",
   "metadata": {},
   "outputs": [],
   "source": []
  },
  {
   "cell_type": "code",
   "execution_count": 32,
   "id": "13f31b14-f47c-4226-b5af-8580949d5d8d",
   "metadata": {},
   "outputs": [],
   "source": [
    "online_areas = ['Bilisim Teknolojileri', 'Grafik Ve Teknik Tasarim', 'Kisisel Gelisim Ve Egitim']"
   ]
  },
  {
   "cell_type": "code",
   "execution_count": 33,
   "id": "314b9417-52fa-4eab-8357-4fd9eb36434d",
   "metadata": {},
   "outputs": [],
   "source": [
    "df_online_top3 = get_selected_info(df_online,'alan', online_areas)"
   ]
  },
  {
   "cell_type": "code",
   "execution_count": 34,
   "id": "73a2d416-5ee0-4e12-a110-e8c76fde613b",
   "metadata": {},
   "outputs": [
    {
     "data": {
      "text/plain": [
       "(100104, 6)"
      ]
     },
     "execution_count": 34,
     "metadata": {},
     "output_type": "execute_result"
    }
   ],
   "source": [
    "df_online_top3.shape"
   ]
  },
  {
   "cell_type": "code",
   "execution_count": 35,
   "id": "d0a315b8-772c-4c83-8af6-1977779990eb",
   "metadata": {},
   "outputs": [
    {
     "data": {
      "text/plain": [
       "Bilisim Teknolojileri        81235\n",
       "Grafik Ve Teknik Tasarim     14205\n",
       "Kisisel Gelisim Ve Egitim     4664\n",
       "Name: alan, dtype: int64"
      ]
     },
     "execution_count": 35,
     "metadata": {},
     "output_type": "execute_result"
    }
   ],
   "source": [
    "df_online_top3.alan.value_counts()"
   ]
  },
  {
   "cell_type": "code",
   "execution_count": null,
   "id": "188360f2-4b19-4c9e-9e12-f87d18551c35",
   "metadata": {},
   "outputs": [],
   "source": []
  },
  {
   "cell_type": "code",
   "execution_count": null,
   "id": "f0c55285-2e94-44ea-9858-6fdca6f5ea11",
   "metadata": {},
   "outputs": [],
   "source": []
  },
  {
   "cell_type": "code",
   "execution_count": 36,
   "id": "8250d137-f72d-4b5a-9fdc-1db428cfed48",
   "metadata": {},
   "outputs": [
    {
     "name": "stdout",
     "output_type": "stream",
     "text": [
      "{'Bilisim Teknolojileri': 0, 'Grafik Ve Teknik Tasarim': 1, 'Kisisel Gelisim Ve Egitim': 2}\n"
     ]
    }
   ],
   "source": [
    "df_online_top3, target_mapping = label_encoding(df_online_top3, 'alan')"
   ]
  },
  {
   "cell_type": "code",
   "execution_count": 37,
   "id": "f64e8a41-373d-4537-8877-0414fba9e72c",
   "metadata": {},
   "outputs": [
    {
     "data": {
      "text/html": [
       "<div>\n",
       "<style scoped>\n",
       "    .dataframe tbody tr th:only-of-type {\n",
       "        vertical-align: middle;\n",
       "    }\n",
       "\n",
       "    .dataframe tbody tr th {\n",
       "        vertical-align: top;\n",
       "    }\n",
       "\n",
       "    .dataframe thead th {\n",
       "        text-align: right;\n",
       "    }\n",
       "</style>\n",
       "<table border=\"1\" class=\"dataframe\">\n",
       "  <thead>\n",
       "    <tr style=\"text-align: right;\">\n",
       "      <th></th>\n",
       "      <th>egitim_durumu</th>\n",
       "      <th>calisma_durumu</th>\n",
       "      <th>alan</th>\n",
       "      <th>hak_edilen_belge_tipi</th>\n",
       "      <th>tercih_sebebi</th>\n",
       "      <th>yas_araligi</th>\n",
       "    </tr>\n",
       "  </thead>\n",
       "  <tbody>\n",
       "    <tr>\n",
       "      <th>0</th>\n",
       "      <td>3</td>\n",
       "      <td>3</td>\n",
       "      <td>0</td>\n",
       "      <td>0</td>\n",
       "      <td>0</td>\n",
       "      <td>1</td>\n",
       "    </tr>\n",
       "    <tr>\n",
       "      <th>1</th>\n",
       "      <td>3</td>\n",
       "      <td>3</td>\n",
       "      <td>0</td>\n",
       "      <td>1</td>\n",
       "      <td>0</td>\n",
       "      <td>1</td>\n",
       "    </tr>\n",
       "    <tr>\n",
       "      <th>2</th>\n",
       "      <td>8</td>\n",
       "      <td>3</td>\n",
       "      <td>0</td>\n",
       "      <td>0</td>\n",
       "      <td>0</td>\n",
       "      <td>1</td>\n",
       "    </tr>\n",
       "    <tr>\n",
       "      <th>3</th>\n",
       "      <td>3</td>\n",
       "      <td>0</td>\n",
       "      <td>0</td>\n",
       "      <td>0</td>\n",
       "      <td>1</td>\n",
       "      <td>1</td>\n",
       "    </tr>\n",
       "    <tr>\n",
       "      <th>4</th>\n",
       "      <td>3</td>\n",
       "      <td>0</td>\n",
       "      <td>0</td>\n",
       "      <td>0</td>\n",
       "      <td>1</td>\n",
       "      <td>1</td>\n",
       "    </tr>\n",
       "  </tbody>\n",
       "</table>\n",
       "</div>"
      ],
      "text/plain": [
       "   egitim_durumu  calisma_durumu  alan  hak_edilen_belge_tipi  tercih_sebebi  \\\n",
       "0              3               3     0                      0              0   \n",
       "1              3               3     0                      1              0   \n",
       "2              8               3     0                      0              0   \n",
       "3              3               0     0                      0              1   \n",
       "4              3               0     0                      0              1   \n",
       "\n",
       "   yas_araligi  \n",
       "0            1  \n",
       "1            1  \n",
       "2            1  \n",
       "3            1  \n",
       "4            1  "
      ]
     },
     "execution_count": 37,
     "metadata": {},
     "output_type": "execute_result"
    }
   ],
   "source": [
    "df_online_top3.head()"
   ]
  },
  {
   "cell_type": "code",
   "execution_count": 38,
   "id": "604e03f9-aea2-44b4-9e88-86e25fc5bd81",
   "metadata": {},
   "outputs": [],
   "source": [
    "X, y = get_X_y(df_online_top3, target = 'alan')"
   ]
  },
  {
   "cell_type": "code",
   "execution_count": 39,
   "id": "aed92e2b-3f72-4903-95a7-c176a34257f9",
   "metadata": {},
   "outputs": [
    {
     "data": {
      "text/plain": [
       "((80083, 5), (80083,), (20021, 5), (20021,))"
      ]
     },
     "execution_count": 39,
     "metadata": {},
     "output_type": "execute_result"
    }
   ],
   "source": [
    "X_train, X_test,y_train, y_test = train_test_split(X,y ,\n",
    "                               random_state=seed, \n",
    "                               test_size=0.2, \n",
    "                               shuffle=True,\n",
    "                               stratify=y)\n",
    "    \n",
    "X_train.shape , y_train.shape, X_test.shape, y_test.shape\n"
   ]
  },
  {
   "cell_type": "markdown",
   "id": "44f386e5-2edf-4956-9408-8f01f54ac776",
   "metadata": {},
   "source": [
    "### XGBClassifier"
   ]
  },
  {
   "cell_type": "code",
   "execution_count": 40,
   "id": "a2356953-ec49-4c93-89e9-e50d45db9a3a",
   "metadata": {},
   "outputs": [],
   "source": [
    "xgb_model = XGBClassifier() "
   ]
  },
  {
   "cell_type": "code",
   "execution_count": 41,
   "id": "15a2bcb8-dbf9-48fd-8461-a15d63811b7c",
   "metadata": {},
   "outputs": [
    {
     "data": {
      "text/plain": [
       "XGBClassifier(base_score=0.5, booster='gbtree', callbacks=None,\n",
       "              colsample_bylevel=1, colsample_bynode=1, colsample_bytree=1,\n",
       "              early_stopping_rounds=None, enable_categorical=False,\n",
       "              eval_metric=None, feature_types=None, gamma=0, gpu_id=-1,\n",
       "              grow_policy='depthwise', importance_type=None,\n",
       "              interaction_constraints='', learning_rate=0.300000012,\n",
       "              max_bin=256, max_cat_threshold=64, max_cat_to_onehot=4,\n",
       "              max_delta_step=0, max_depth=6, max_leaves=0, min_child_weight=1,\n",
       "              missing=nan, monotone_constraints='()', n_estimators=100,\n",
       "              n_jobs=0, num_parallel_tree=1, objective='multi:softprob',\n",
       "              predictor='auto', ...)"
      ]
     },
     "execution_count": 41,
     "metadata": {},
     "output_type": "execute_result"
    }
   ],
   "source": [
    "xgb_model.fit(X_train, y_train)"
   ]
  },
  {
   "cell_type": "code",
   "execution_count": 42,
   "id": "328fdb70-ad5d-445d-b726-5d8f1e359d20",
   "metadata": {},
   "outputs": [
    {
     "data": {
      "text/plain": [
       "0.8106488187403227"
      ]
     },
     "execution_count": 42,
     "metadata": {},
     "output_type": "execute_result"
    }
   ],
   "source": [
    "xgb_model.score(X_test, y_test) "
   ]
  },
  {
   "cell_type": "code",
   "execution_count": 43,
   "id": "d32149fa-31c1-42cf-b712-d8f94a6028ec",
   "metadata": {},
   "outputs": [],
   "source": [
    "y_pred  = xgb_model.predict(X_test)\n",
    "y_pred_proba = xgb_model.predict_proba(X_test)[::,1]"
   ]
  },
  {
   "cell_type": "markdown",
   "id": "4b6b4c8a-ad3d-4217-85d0-e2d6c975963d",
   "metadata": {},
   "source": [
    "#### Confusion Matrix"
   ]
  },
  {
   "cell_type": "code",
   "execution_count": 44,
   "id": "f6c28fc9-427c-4094-b2e9-02572ae155ee",
   "metadata": {},
   "outputs": [
    {
     "data": {
      "image/png": "[encoded data removed]",
      "text/plain": [
       "<Figure size 432x288 with 2 Axes>"
      ]
     },
     "metadata": {
      "needs_background": "light"
     },
     "output_type": "display_data"
    }
   ],
   "source": [
    "ConfusionMatrixDisplay.from_predictions(y_test, y_pred)\n",
    "plt.show()"
   ]
  },
  {
   "cell_type": "markdown",
   "id": "2a3d0ec8-ffa8-4191-a59a-e6c74b3951cf",
   "metadata": {},
   "source": [
    "#### Classification Report"
   ]
  },
  {
   "cell_type": "code",
   "execution_count": 45,
   "id": "d651b7af-d344-4b01-919e-d8876e8e8fa0",
   "metadata": {},
   "outputs": [
    {
     "name": "stdout",
     "output_type": "stream",
     "text": [
      "              precision    recall  f1-score   support\n",
      "\n",
      "           0       0.81      1.00      0.90     16247\n",
      "           1       0.22      0.00      0.00      2841\n",
      "           2       0.00      0.00      0.00       933\n",
      "\n",
      "    accuracy                           0.81     20021\n",
      "   macro avg       0.34      0.33      0.30     20021\n",
      "weighted avg       0.69      0.81      0.73     20021\n",
      "\n"
     ]
    }
   ],
   "source": [
    "print(classification_report(y_test,y_pred))"
   ]
  },
  {
   "cell_type": "code",
   "execution_count": 46,
   "id": "2b614e06-4dc6-43d7-8ca0-90faa70bf61c",
   "metadata": {},
   "outputs": [
    {
     "data": {
      "text/plain": [
       "{'Bilisim Teknolojileri': 0,\n",
       " 'Grafik Ve Teknik Tasarim': 1,\n",
       " 'Kisisel Gelisim Ve Egitim': 2}"
      ]
     },
     "execution_count": 46,
     "metadata": {},
     "output_type": "execute_result"
    }
   ],
   "source": [
    "target_mapping"
   ]
  },
  {
   "cell_type": "markdown",
   "id": "d0db1650-d57d-42e4-8f26-953bf72ae26e",
   "metadata": {},
   "source": [
    "#### Plot importance"
   ]
  },
  {
   "cell_type": "code",
   "execution_count": 47,
   "id": "53109cdd-22e8-4e30-976c-08ca335778bf",
   "metadata": {},
   "outputs": [
    {
     "data": {
      "text/plain": [
       "<AxesSubplot:title={'center':'Feature importance'}, xlabel='F score', ylabel='Features'>"
      ]
     },
     "execution_count": 47,
     "metadata": {},
     "output_type": "execute_result"
    },
    {
     "data": {
      "image/png": "[encoded data removed]",
      "text/plain": [
       "<Figure size 432x288 with 1 Axes>"
      ]
     },
     "metadata": {
      "needs_background": "light"
     },
     "output_type": "display_data"
    }
   ],
   "source": [
    "plot_importance(xgb_model)"
   ]
  },
  {
   "cell_type": "code",
   "execution_count": null,
   "id": "df80e043-5094-4087-b02b-6062d0dcff47",
   "metadata": {},
   "outputs": [],
   "source": []
  },
  {
   "cell_type": "code",
   "execution_count": null,
   "id": "5112170e-d344-4f68-8fa4-6e26a62fd6c2",
   "metadata": {},
   "outputs": [],
   "source": []
  },
  {
   "cell_type": "code",
   "execution_count": null,
   "id": "9368c583-022a-41ab-b41b-7a9ea70eaf4c",
   "metadata": {},
   "outputs": [],
   "source": []
  },
  {
   "cell_type": "markdown",
   "id": "811c06a3-7949-4a86-b4aa-b600b66cfa0a",
   "metadata": {
    "tags": []
   },
   "source": [
    "## F2F"
   ]
  },
  {
   "cell_type": "code",
   "execution_count": 48,
   "id": "643862ad-fbd8-4cd9-8e9a-497bf16bb952",
   "metadata": {},
   "outputs": [
    {
     "data": {
      "text/plain": [
       "(111578, 9)"
      ]
     },
     "execution_count": 48,
     "metadata": {},
     "output_type": "execute_result"
    }
   ],
   "source": [
    "df_f2f = df[df['kurs_merkezi'] != 'Uzaktan Egitim'].copy()\n",
    "df_f2f.shape"
   ]
  },
  {
   "cell_type": "code",
   "execution_count": 49,
   "id": "2a185ac3-187e-4943-be65-fefc5679beb6",
   "metadata": {},
   "outputs": [
    {
     "data": {
      "text/plain": [
       "Spor                                    23254\n",
       "Dil Egitimleri                          14271\n",
       "Kisisel Gelisim Ve Egitim                8891\n",
       "Orgu Ve Ýsleme Sanatlari                 8618\n",
       "Bilisim Teknolojileri                    8345\n",
       "Moda Tasarimi Ve Tekstil Teknolojisi     6097\n",
       "Sanat Ve Tasarim                         5652\n",
       "El Sanatlari Teknolojisi                 5347\n",
       "Gastronomi Ve Mutfak Sanatlari           5213\n",
       "Yonetim Ve Hizmet                        3950\n",
       "Tekstil Tasarimi                         3355\n",
       "Guzellik Ve Sac Bakim Hizmetleri         2891\n",
       "Muzik                                    2826\n",
       "Susleme Sanatlari                        2636\n",
       "Cocuk Gelisimi Ve Egitimi                1986\n",
       "Name: alan, dtype: int64"
      ]
     },
     "execution_count": 49,
     "metadata": {},
     "output_type": "execute_result"
    }
   ],
   "source": [
    "df_f2f.alan.value_counts()[:15]"
   ]
  },
  {
   "cell_type": "code",
   "execution_count": 50,
   "id": "b595ab86-6439-4983-9e7d-71984ea8e46e",
   "metadata": {},
   "outputs": [],
   "source": [
    "# del df_f2f['kurs_merkezi']\n",
    "del df_f2f['program']"
   ]
  },
  {
   "cell_type": "code",
   "execution_count": null,
   "id": "3553bb78-1f5e-417a-8969-d6ab56192e60",
   "metadata": {},
   "outputs": [],
   "source": []
  },
  {
   "cell_type": "code",
   "execution_count": 51,
   "id": "396b7074-aa36-4407-8b60-d7191021ad50",
   "metadata": {},
   "outputs": [],
   "source": [
    "f2f_areas = ['Bilisim Teknolojileri', 'Dil Egitimleri', 'Kisisel Gelisim Ve Egitim']"
   ]
  },
  {
   "cell_type": "code",
   "execution_count": 52,
   "id": "5df5c3f5-2c2c-4941-88e2-5ff3715a0e66",
   "metadata": {},
   "outputs": [],
   "source": [
    "df_f2f_top3 = get_selected_info(df_f2f,'alan', f2f_areas)"
   ]
  },
  {
   "cell_type": "code",
   "execution_count": 53,
   "id": "7d28c2cc-a7e0-46e8-8f08-01f4e486c4ec",
   "metadata": {},
   "outputs": [
    {
     "data": {
      "text/plain": [
       "(31507, 8)"
      ]
     },
     "execution_count": 53,
     "metadata": {},
     "output_type": "execute_result"
    }
   ],
   "source": [
    "df_f2f_top3.shape"
   ]
  },
  {
   "cell_type": "code",
   "execution_count": 54,
   "id": "35856584-5e29-4f28-94eb-01c58ad89fa5",
   "metadata": {},
   "outputs": [
    {
     "data": {
      "text/plain": [
       "Dil Egitimleri               14271\n",
       "Kisisel Gelisim Ve Egitim     8891\n",
       "Bilisim Teknolojileri         8345\n",
       "Name: alan, dtype: int64"
      ]
     },
     "execution_count": 54,
     "metadata": {},
     "output_type": "execute_result"
    }
   ],
   "source": [
    "df_f2f_top3.alan.value_counts()"
   ]
  },
  {
   "cell_type": "markdown",
   "id": "ccc4ca1a-c2a9-4d7e-bb8b-1f0f5a844755",
   "metadata": {},
   "source": [
    "### Spor"
   ]
  },
  {
   "cell_type": "code",
   "execution_count": 55,
   "id": "f7e41121-c8cf-4ef4-b3ac-d2f643b5e3ed",
   "metadata": {},
   "outputs": [],
   "source": [
    "spor = get_selected_info(df_f2f,'alan', ['Spor'])"
   ]
  },
  {
   "cell_type": "code",
   "execution_count": 56,
   "id": "a3bc91b5-4fec-41ea-9816-e7ce3a4337fe",
   "metadata": {},
   "outputs": [
    {
     "data": {
      "text/plain": [
       "Kartal Yakacik Spor Egitim Merkezi             1814\n",
       "Tuzla Spor Egitim Merkezi                      1807\n",
       "Kartal Atalar Spor Egitim Merkezi              1788\n",
       "Gungoren Spor Egitim Merkezi                   1600\n",
       "Kartal Hurriyet Mh. Spor Egitim Merkezi        1591\n",
       "Umraniye Mithatpasa Spor Egitim Merkezi        1562\n",
       "Sultanbeyli Mehmet Akif Spor Egitim Merkezi    1520\n",
       "K.Cekmece Sefakoy Spor Egitim Merkezi          1491\n",
       "Gaziosmanpasa Spor Egitim Merkezi              1424\n",
       "Silivri Spor Egitim Merkezi                    1362\n",
       "Buyukcekmece Mimaroba Spor Egitim Merkezi      1349\n",
       "Beylikduzu Beykent Spor Egitim Merkezi         1239\n",
       "Atasehir Kayisdagi                              679\n",
       "Catalca Spor Egitim Merkezi                     604\n",
       "Sultangazi Hoca Ahmet Yesevi Kultur Merkezi     354\n",
       "Name: kurs_merkezi, dtype: int64"
      ]
     },
     "execution_count": 56,
     "metadata": {},
     "output_type": "execute_result"
    }
   ],
   "source": [
    "spor.kurs_merkezi.value_counts()[:15]"
   ]
  },
  {
   "cell_type": "code",
   "execution_count": 57,
   "id": "b352eb9d-22b7-4860-ac4a-20108bbd5000",
   "metadata": {},
   "outputs": [
    {
     "data": {
      "text/plain": [
       "Kartal           5313\n",
       "Tuzla            2123\n",
       "Sultanbeyli      1732\n",
       "Gungoren         1600\n",
       "Umraniye         1562\n",
       "Kucukcekmece     1491\n",
       "Gaziosmanpasa    1424\n",
       "Silivri          1362\n",
       "Buyukcekmece     1349\n",
       "Beylikduzu       1239\n",
       "Atasehir          978\n",
       "Pendik            666\n",
       "Catalca           604\n",
       "Kagithane         380\n",
       "Sultangazi        354\n",
       "Name: kurs_merkezi_ilcesi, dtype: int64"
      ]
     },
     "execution_count": 57,
     "metadata": {},
     "output_type": "execute_result"
    }
   ],
   "source": [
    "spor.kurs_merkezi_ilcesi.value_counts()[:15]"
   ]
  },
  {
   "cell_type": "code",
   "execution_count": 58,
   "id": "acafc751-7358-49c5-9417-550a0bf26401",
   "metadata": {},
   "outputs": [
    {
     "name": "stdout",
     "output_type": "stream",
     "text": [
      "{'Bilisim Teknolojileri': 0, 'Dil Egitimleri': 1, 'Kisisel Gelisim Ve Egitim': 2}\n"
     ]
    }
   ],
   "source": [
    "df_f2f_top3, target_mapping = label_encoding(df_f2f_top3, 'alan')"
   ]
  },
  {
   "cell_type": "code",
   "execution_count": 59,
   "id": "9cbb5c15-14ad-4447-8726-56f2788cf535",
   "metadata": {},
   "outputs": [
    {
     "data": {
      "text/html": [
       "<div>\n",
       "<style scoped>\n",
       "    .dataframe tbody tr th:only-of-type {\n",
       "        vertical-align: middle;\n",
       "    }\n",
       "\n",
       "    .dataframe tbody tr th {\n",
       "        vertical-align: top;\n",
       "    }\n",
       "\n",
       "    .dataframe thead th {\n",
       "        text-align: right;\n",
       "    }\n",
       "</style>\n",
       "<table border=\"1\" class=\"dataframe\">\n",
       "  <thead>\n",
       "    <tr style=\"text-align: right;\">\n",
       "      <th></th>\n",
       "      <th>egitim_durumu</th>\n",
       "      <th>calisma_durumu</th>\n",
       "      <th>alan</th>\n",
       "      <th>hak_edilen_belge_tipi</th>\n",
       "      <th>kurs_merkezi</th>\n",
       "      <th>kurs_merkezi_ilcesi</th>\n",
       "      <th>tercih_sebebi</th>\n",
       "      <th>yas_araligi</th>\n",
       "    </tr>\n",
       "  </thead>\n",
       "  <tbody>\n",
       "    <tr>\n",
       "      <th>0</th>\n",
       "      <td>3</td>\n",
       "      <td>2</td>\n",
       "      <td>0</td>\n",
       "      <td>1</td>\n",
       "      <td>102</td>\n",
       "      <td>26</td>\n",
       "      <td>0</td>\n",
       "      <td>1</td>\n",
       "    </tr>\n",
       "    <tr>\n",
       "      <th>1</th>\n",
       "      <td>4</td>\n",
       "      <td>2</td>\n",
       "      <td>0</td>\n",
       "      <td>2</td>\n",
       "      <td>73</td>\n",
       "      <td>23</td>\n",
       "      <td>1</td>\n",
       "      <td>1</td>\n",
       "    </tr>\n",
       "    <tr>\n",
       "      <th>2</th>\n",
       "      <td>9</td>\n",
       "      <td>2</td>\n",
       "      <td>0</td>\n",
       "      <td>1</td>\n",
       "      <td>56</td>\n",
       "      <td>17</td>\n",
       "      <td>3</td>\n",
       "      <td>3</td>\n",
       "    </tr>\n",
       "    <tr>\n",
       "      <th>3</th>\n",
       "      <td>3</td>\n",
       "      <td>4</td>\n",
       "      <td>0</td>\n",
       "      <td>2</td>\n",
       "      <td>70</td>\n",
       "      <td>23</td>\n",
       "      <td>0</td>\n",
       "      <td>1</td>\n",
       "    </tr>\n",
       "    <tr>\n",
       "      <th>4</th>\n",
       "      <td>3</td>\n",
       "      <td>4</td>\n",
       "      <td>0</td>\n",
       "      <td>2</td>\n",
       "      <td>70</td>\n",
       "      <td>23</td>\n",
       "      <td>0</td>\n",
       "      <td>0</td>\n",
       "    </tr>\n",
       "  </tbody>\n",
       "</table>\n",
       "</div>"
      ],
      "text/plain": [
       "   egitim_durumu  calisma_durumu  alan  hak_edilen_belge_tipi  kurs_merkezi  \\\n",
       "0              3               2     0                      1           102   \n",
       "1              4               2     0                      2            73   \n",
       "2              9               2     0                      1            56   \n",
       "3              3               4     0                      2            70   \n",
       "4              3               4     0                      2            70   \n",
       "\n",
       "   kurs_merkezi_ilcesi  tercih_sebebi  yas_araligi  \n",
       "0                   26              0            1  \n",
       "1                   23              1            1  \n",
       "2                   17              3            3  \n",
       "3                   23              0            1  \n",
       "4                   23              0            0  "
      ]
     },
     "execution_count": 59,
     "metadata": {},
     "output_type": "execute_result"
    }
   ],
   "source": [
    "df_f2f_top3.head()"
   ]
  },
  {
   "cell_type": "code",
   "execution_count": 60,
   "id": "e6b1bfee-f6a3-4c7e-bdc0-f4fd278a033e",
   "metadata": {},
   "outputs": [],
   "source": [
    "X, y = get_X_y(df_f2f_top3, target = 'alan')"
   ]
  },
  {
   "cell_type": "code",
   "execution_count": 61,
   "id": "7c4520e2-a165-42af-bc38-e3b6ac907b40",
   "metadata": {},
   "outputs": [
    {
     "data": {
      "text/plain": [
       "((25205, 7), (25205,), (6302, 7), (6302,))"
      ]
     },
     "execution_count": 61,
     "metadata": {},
     "output_type": "execute_result"
    }
   ],
   "source": [
    "X_train, X_test,y_train, y_test = train_test_split(X,y ,\n",
    "                               random_state=seed, \n",
    "                               test_size=0.2, \n",
    "                               shuffle=True,\n",
    "                               stratify=y)\n",
    "    \n",
    "X_train.shape , y_train.shape, X_test.shape, y_test.shape\n"
   ]
  },
  {
   "cell_type": "markdown",
   "id": "5b2935dd-8773-4afc-a4ac-1031fe807176",
   "metadata": {},
   "source": [
    "### XGBClassifier"
   ]
  },
  {
   "cell_type": "code",
   "execution_count": 62,
   "id": "ad80c891-369c-43a3-949b-1deee41fba5e",
   "metadata": {},
   "outputs": [],
   "source": [
    "xgb_model = XGBClassifier() "
   ]
  },
  {
   "cell_type": "code",
   "execution_count": 63,
   "id": "e987ce9b-5caf-4692-ab97-9ac1fee5c7d6",
   "metadata": {},
   "outputs": [
    {
     "data": {
      "text/plain": [
       "XGBClassifier(base_score=0.5, booster='gbtree', callbacks=None,\n",
       "              colsample_bylevel=1, colsample_bynode=1, colsample_bytree=1,\n",
       "              early_stopping_rounds=None, enable_categorical=False,\n",
       "              eval_metric=None, feature_types=None, gamma=0, gpu_id=-1,\n",
       "              grow_policy='depthwise', importance_type=None,\n",
       "              interaction_constraints='', learning_rate=0.300000012,\n",
       "              max_bin=256, max_cat_threshold=64, max_cat_to_onehot=4,\n",
       "              max_delta_step=0, max_depth=6, max_leaves=0, min_child_weight=1,\n",
       "              missing=nan, monotone_constraints='()', n_estimators=100,\n",
       "              n_jobs=0, num_parallel_tree=1, objective='multi:softprob',\n",
       "              predictor='auto', ...)"
      ]
     },
     "execution_count": 63,
     "metadata": {},
     "output_type": "execute_result"
    }
   ],
   "source": [
    "xgb_model.fit(X_train, y_train)"
   ]
  },
  {
   "cell_type": "code",
   "execution_count": 64,
   "id": "cdf99e90-a186-474c-bf87-81d234b0352f",
   "metadata": {},
   "outputs": [
    {
     "data": {
      "text/plain": [
       "0.7664233576642335"
      ]
     },
     "execution_count": 64,
     "metadata": {},
     "output_type": "execute_result"
    }
   ],
   "source": [
    "xgb_model.score(X_test, y_test) "
   ]
  },
  {
   "cell_type": "code",
   "execution_count": 65,
   "id": "3157f153-bdda-4cff-9e17-8f7139a3a52b",
   "metadata": {},
   "outputs": [],
   "source": [
    "y_pred  = xgb_model.predict(X_test)\n",
    "y_pred_proba = xgb_model.predict_proba(X_test)[::,1]"
   ]
  },
  {
   "cell_type": "markdown",
   "id": "b7335b74-5536-49d9-a24e-2b48d34f2e7c",
   "metadata": {},
   "source": [
    "#### Confusion Matrix"
   ]
  },
  {
   "cell_type": "code",
   "execution_count": 66,
   "id": "2a213c81-8127-4234-812e-79e8215e8241",
   "metadata": {},
   "outputs": [
    {
     "data": {
      "image/png": "[encoded data removed]",
      "text/plain": [
       "<Figure size 432x288 with 2 Axes>"
      ]
     },
     "metadata": {
      "needs_background": "light"
     },
     "output_type": "display_data"
    }
   ],
   "source": [
    "ConfusionMatrixDisplay.from_predictions(y_test, y_pred)\n",
    "plt.show()"
   ]
  },
  {
   "cell_type": "markdown",
   "id": "f4b23fb4-1ee2-4f02-8c54-23f89aa4a974",
   "metadata": {},
   "source": [
    "#### Classification Report"
   ]
  },
  {
   "cell_type": "code",
   "execution_count": 67,
   "id": "f4b65ac3-b2eb-410c-b083-4896ccd09370",
   "metadata": {},
   "outputs": [
    {
     "name": "stdout",
     "output_type": "stream",
     "text": [
      "              precision    recall  f1-score   support\n",
      "\n",
      "           0       0.79      0.71      0.75      1669\n",
      "           1       0.76      0.84      0.80      2855\n",
      "           2       0.75      0.70      0.72      1778\n",
      "\n",
      "    accuracy                           0.77      6302\n",
      "   macro avg       0.77      0.75      0.76      6302\n",
      "weighted avg       0.77      0.77      0.76      6302\n",
      "\n"
     ]
    }
   ],
   "source": [
    "print(classification_report(y_test,y_pred))"
   ]
  },
  {
   "cell_type": "code",
   "execution_count": 68,
   "id": "561e5612-8fed-46f3-88ad-c7f0d4b54279",
   "metadata": {},
   "outputs": [
    {
     "data": {
      "text/plain": [
       "{'Bilisim Teknolojileri': 0,\n",
       " 'Dil Egitimleri': 1,\n",
       " 'Kisisel Gelisim Ve Egitim': 2}"
      ]
     },
     "execution_count": 68,
     "metadata": {},
     "output_type": "execute_result"
    }
   ],
   "source": [
    "target_mapping"
   ]
  },
  {
   "cell_type": "markdown",
   "id": "c1fccb28-6779-4858-9ab8-4d3b32ba8f38",
   "metadata": {},
   "source": [
    "#### Plot importance"
   ]
  },
  {
   "cell_type": "code",
   "execution_count": 69,
   "id": "2085be4f-039f-482f-bbbc-395319f67cc0",
   "metadata": {},
   "outputs": [
    {
     "data": {
      "text/plain": [
       "<AxesSubplot:title={'center':'Feature importance'}, xlabel='F score', ylabel='Features'>"
      ]
     },
     "execution_count": 69,
     "metadata": {},
     "output_type": "execute_result"
    },
    {
     "data": {
      "image/png": "[encoded data removed]",
      "text/plain": [
       "<Figure size 432x288 with 1 Axes>"
      ]
     },
     "metadata": {
      "needs_background": "light"
     },
     "output_type": "display_data"
    }
   ],
   "source": [
    "plot_importance(xgb_model)"
   ]
  },
  {
   "cell_type": "markdown",
   "id": "75a73ff1-03b8-4a99-ad4e-c81e7ea1e1c6",
   "metadata": {},
   "source": [
    "# PROGRAM MODELING"
   ]
  },
  {
   "cell_type": "code",
   "execution_count": 70,
   "id": "1fc545f9-1dd1-4331-9890-26cb09eb82ee",
   "metadata": {},
   "outputs": [],
   "source": [
    "top_areas = ['Bilisim Teknolojileri', 'Spor','Grafik Ve Teknik Tasarim', 'Dil Egitimleri', 'Kisisel Gelisim Ve Egitim']\n",
    "\n",
    "# tahmin yaptircagimiz alanlar bunlar "
   ]
  },
  {
   "cell_type": "markdown",
   "id": "1e8ef747-3925-4c3b-bf43-9791a6f72a17",
   "metadata": {},
   "source": [
    "- Alan bazinda model olusuturup program tahminlemeye calisilacaktir."
   ]
  },
  {
   "cell_type": "markdown",
   "id": "ce39f943-0b8a-4a29-8972-12a18a2e2eb0",
   "metadata": {},
   "source": [
    "## Bilisim Teknolojileri"
   ]
  },
  {
   "cell_type": "code",
   "execution_count": 71,
   "id": "2aecdb0a-cbc2-4269-86fc-cc03c1ff118c",
   "metadata": {},
   "outputs": [],
   "source": [
    "df_bilisim = get_selected_info(df,'alan', ['Bilisim Teknolojileri'])"
   ]
  },
  {
   "cell_type": "code",
   "execution_count": 72,
   "id": "2c40f3e1-96d7-4353-8c19-afd8f0b74ce8",
   "metadata": {},
   "outputs": [],
   "source": [
    "del df_bilisim['alan']\n",
    "# del df_top_areas['program']\n",
    "# del df_online['kurs_merkezi_ilcesi']"
   ]
  },
  {
   "cell_type": "code",
   "execution_count": 73,
   "id": "df331121-2f81-4d43-b36a-a284cab8b5e7",
   "metadata": {},
   "outputs": [
    {
     "data": {
      "text/html": [
       "<div>\n",
       "<style scoped>\n",
       "    .dataframe tbody tr th:only-of-type {\n",
       "        vertical-align: middle;\n",
       "    }\n",
       "\n",
       "    .dataframe tbody tr th {\n",
       "        vertical-align: top;\n",
       "    }\n",
       "\n",
       "    .dataframe thead th {\n",
       "        text-align: right;\n",
       "    }\n",
       "</style>\n",
       "<table border=\"1\" class=\"dataframe\">\n",
       "  <thead>\n",
       "    <tr style=\"text-align: right;\">\n",
       "      <th></th>\n",
       "      <th>egitim_durumu</th>\n",
       "      <th>calisma_durumu</th>\n",
       "      <th>program</th>\n",
       "      <th>hak_edilen_belge_tipi</th>\n",
       "      <th>kurs_merkezi</th>\n",
       "      <th>kurs_merkezi_ilcesi</th>\n",
       "      <th>tercih_sebebi</th>\n",
       "      <th>yas_araligi</th>\n",
       "    </tr>\n",
       "  </thead>\n",
       "  <tbody>\n",
       "    <tr>\n",
       "      <th>0</th>\n",
       "      <td>Lisans</td>\n",
       "      <td>Ogrenci</td>\n",
       "      <td>Powerpoint 2019 Kullanimi</td>\n",
       "      <td>Hak Etmedi</td>\n",
       "      <td>Uzaktan Egitim</td>\n",
       "      <td>Esenler</td>\n",
       "      <td>Meslek Edinmek, Meslegimde Ýlerlemek</td>\n",
       "      <td>20-30 Yas Arasi</td>\n",
       "    </tr>\n",
       "    <tr>\n",
       "      <th>1</th>\n",
       "      <td>Lisans</td>\n",
       "      <td>Ogrenci</td>\n",
       "      <td>Blog Web Sitesi Yapimi Ve Bloggerlik</td>\n",
       "      <td>Ismek Sertifika</td>\n",
       "      <td>Uzaktan Egitim</td>\n",
       "      <td>Esenler</td>\n",
       "      <td>Meslek Edinmek, Meslegimde Ýlerlemek</td>\n",
       "      <td>20-30 Yas Arasi</td>\n",
       "    </tr>\n",
       "    <tr>\n",
       "      <th>2</th>\n",
       "      <td>On Lisans</td>\n",
       "      <td>Ogrenci</td>\n",
       "      <td>Algoritma Ve Programlamaya Temelleri</td>\n",
       "      <td>Hak Etmedi</td>\n",
       "      <td>Uzaktan Egitim</td>\n",
       "      <td>Esenler</td>\n",
       "      <td>Meslek Edinmek, Meslegimde Ýlerlemek</td>\n",
       "      <td>20-30 Yas Arasi</td>\n",
       "    </tr>\n",
       "    <tr>\n",
       "      <th>3</th>\n",
       "      <td>Lisans</td>\n",
       "      <td>Calismiyor</td>\n",
       "      <td>Web Tasarim Gelistirme 1 (Photoshop Ile Web Ar...</td>\n",
       "      <td>Ismek Sertifika</td>\n",
       "      <td>Sancaktepe Samandira</td>\n",
       "      <td>Sancaktepe</td>\n",
       "      <td>Meslek Edinmek, Meslegimde Ýlerlemek</td>\n",
       "      <td>20-30 Yas Arasi</td>\n",
       "    </tr>\n",
       "    <tr>\n",
       "      <th>4</th>\n",
       "      <td>Lisans</td>\n",
       "      <td>Calisiyor</td>\n",
       "      <td>Blog Web Sitesi Yapimi Ve Bloggerlik</td>\n",
       "      <td>Hak Etmedi</td>\n",
       "      <td>Uzaktan Egitim</td>\n",
       "      <td>Esenler</td>\n",
       "      <td>Sanat,Muzik,Spor Vb. Yeteneklerimi Gelistirmek</td>\n",
       "      <td>20-30 Yas Arasi</td>\n",
       "    </tr>\n",
       "  </tbody>\n",
       "</table>\n",
       "</div>"
      ],
      "text/plain": [
       "  egitim_durumu calisma_durumu  \\\n",
       "0        Lisans        Ogrenci   \n",
       "1        Lisans        Ogrenci   \n",
       "2     On Lisans        Ogrenci   \n",
       "3        Lisans     Calismiyor   \n",
       "4        Lisans      Calisiyor   \n",
       "\n",
       "                                             program hak_edilen_belge_tipi  \\\n",
       "0                          Powerpoint 2019 Kullanimi            Hak Etmedi   \n",
       "1               Blog Web Sitesi Yapimi Ve Bloggerlik       Ismek Sertifika   \n",
       "2               Algoritma Ve Programlamaya Temelleri            Hak Etmedi   \n",
       "3  Web Tasarim Gelistirme 1 (Photoshop Ile Web Ar...       Ismek Sertifika   \n",
       "4               Blog Web Sitesi Yapimi Ve Bloggerlik            Hak Etmedi   \n",
       "\n",
       "           kurs_merkezi kurs_merkezi_ilcesi  \\\n",
       "0        Uzaktan Egitim             Esenler   \n",
       "1        Uzaktan Egitim             Esenler   \n",
       "2        Uzaktan Egitim             Esenler   \n",
       "3  Sancaktepe Samandira          Sancaktepe   \n",
       "4        Uzaktan Egitim             Esenler   \n",
       "\n",
       "                                    tercih_sebebi      yas_araligi  \n",
       "0            Meslek Edinmek, Meslegimde Ýlerlemek  20-30 Yas Arasi  \n",
       "1            Meslek Edinmek, Meslegimde Ýlerlemek  20-30 Yas Arasi  \n",
       "2            Meslek Edinmek, Meslegimde Ýlerlemek  20-30 Yas Arasi  \n",
       "3            Meslek Edinmek, Meslegimde Ýlerlemek  20-30 Yas Arasi  \n",
       "4  Sanat,Muzik,Spor Vb. Yeteneklerimi Gelistirmek  20-30 Yas Arasi  "
      ]
     },
     "execution_count": 73,
     "metadata": {},
     "output_type": "execute_result"
    }
   ],
   "source": [
    "df_bilisim.head()"
   ]
  },
  {
   "cell_type": "code",
   "execution_count": null,
   "id": "c5ca655a-36b9-4a11-aaaa-4042b20c70d6",
   "metadata": {},
   "outputs": [],
   "source": []
  },
  {
   "cell_type": "code",
   "execution_count": 74,
   "id": "20420a22-d95b-475a-b3df-44d87cf3a376",
   "metadata": {},
   "outputs": [
    {
     "data": {
      "text/plain": [
       "(89580, 8)"
      ]
     },
     "execution_count": 74,
     "metadata": {},
     "output_type": "execute_result"
    }
   ],
   "source": [
    "df_bilisim.shape"
   ]
  },
  {
   "cell_type": "code",
   "execution_count": 75,
   "id": "499c7476-e192-4829-95bd-c1bcd7e2458b",
   "metadata": {},
   "outputs": [
    {
     "data": {
      "text/plain": [
       "Excel 2019 Kullanimi                                  9570\n",
       "Algoritma Ve Programlamaya Temelleri                  8241\n",
       "Blog Web Sitesi Yapimi Ve Bloggerlik                  4512\n",
       "Uygulamalarla Ileri Excel Formulleri                  4019\n",
       "Powerpoint 2019 Kullanimi                             3540\n",
       "Photoshop Ile Web Arayuz Tasarimi (Uzaktan Egitim)    3480\n",
       "Web Tasarim Icin Photoshop Temelleri                  3173\n",
       "Bilgisayar Isletmenligi (Operatorlugu)                3158\n",
       "Wordpress 1 / Web Sitesi Yapimi                       3062\n",
       "Word 2019 Kullanimi                                   2875\n",
       "Word Ile Akademik Dokuman (Tez) Hazirlama             2588\n",
       "Excel Makrolara Giris                                 2554\n",
       "C# Programlamaya Giris                                2496\n",
       "Dijital Iletisim Ve Etkilesim Uygulamalari            2353\n",
       "Egitimde Google Classroom Kullanimi                   2258\n",
       "Name: program, dtype: int64"
      ]
     },
     "execution_count": 75,
     "metadata": {},
     "output_type": "execute_result"
    }
   ],
   "source": [
    "df_bilisim.program.value_counts()[:15]"
   ]
  },
  {
   "cell_type": "code",
   "execution_count": 76,
   "id": "35d24656-a581-4e9e-af0e-0b6abcd9b911",
   "metadata": {
    "tags": []
   },
   "outputs": [
    {
     "name": "stdout",
     "output_type": "stream",
     "text": [
      "{'Access Ile Temel Veri Tabani Tasarimi': 0, 'Adobe Xd Ile Mobil Uygulama Tasarimi': 1, 'Algoritma Ve Programlama Temelleri': 2, 'Algoritma Ve Programlamaya Temelleri': 3, 'Android Programlama 1 (Mobil Uygulama Gelistirme)': 4, 'Android Programlama 2 (Ileri Uygulama Gelistirme)': 5, 'Android Programlamaya Giris': 6, 'App Inventor Ile Android Uygulama Gelistirme': 7, 'Asp.Net Programlama 2 (Mvc Uygulamalari Gelistirme)': 8, 'Asp.Net Programlama 3 (.Net Core Ve Mvc Ile Kurumsal Mimari)': 9, 'Bilgi Guvenligi Bilinclendirme Egitimi': 10, 'Bilgisayar Isletmenligi (Operatorlugu)': 11, 'Bilgisayar Programlama Teknikleri': 12, 'Bilgisayar Sistem Bakim Onarim': 13, 'Bilgisayarda Dokuman Hazirlama': 14, 'Blog Web Sitesi Yapimi (12-16 Yas Egitimi)': 15, 'Blog Web Sitesi Yapimi Ve Bloggerlik': 16, 'C# Programlamaya Giris': 17, 'Camtasia 2019 Kullanimi': 18, 'Cevrim Ici Anket Uygulamasi : Google Formlar Kullanimi': 19, 'Cevrim Ici Depolama Alani Uygulamasi : Google Drive Kullanimi': 20, 'Cevrim Ici Kelime Islemci Uygulamasi: Google Dokumanlar Kullanimi': 21, 'Cevrim Ici Sunum Uygulamasi: Google Slaytlar Kullanimi': 22, 'Cevrim Ici Tablo Uygulamasi: Google E-Tablolar Kullanimi': 23, 'Cisco Bt Temelleri': 24, 'Cizgi Film Animasyon Workshop': 25, 'Dijital Girisimcilik Ve E-Ticaret Semineri': 26, 'Dijital Iletisim Ve Etkilesim Uygulamalari': 27, 'Dijital Okur Yazarlik': 28, 'Dijital Pazarlama Temelleri (Dijital Becerilerin Gelistirilmesi)': 29, 'Dogru Sorular Sormak (Uzaktan Egitim)': 30, 'Donusum Yonetimi (Uzaktan Egitim)': 31, 'Dunya Neden Ve Nasil Degisiyor?': 32, 'Egitim Ve Is Hayatinda Teknoloji Ile Bir Adim One Gecin: Web 2.0 Araclari Semineri': 33, 'Egitim Ve Webinar Degerlendirmeleri (Uzaktan Egitim)': 34, 'Egitimde Google Classroom Kullanimi': 35, 'Egitimde Kahoot Kullanimi': 36, 'Egitmenler Icin Scratch 1': 37, 'Egitmenler Icin Scratch 2': 38, 'Excel 2019 Kullanimi': 39, 'Excel Egitimi 2 (Ileri Formuller)': 40, 'Excel Egitimi 3 (Makro Ve Vba Programlama)': 41, 'Excel Egitimi 4 (Veri Analizi Ve Dashboard Raporlama)': 42, 'Excel Makrolara Giris': 43, 'Genc Yetenek Gelisim Programi Webinarlari (Uzaktan Egitim)': 44, 'Genc Yetenek Sertifika Tamamlama (Uzaktan Egitim)': 45, 'Google Seo': 46, 'Google Ve Yandex Uygulamalarinin Kullanimi': 47, 'Gorme Engelliler Icin Bilgisayar Kullanimi': 48, 'Ileri Ofis Programlari': 49, 'Internet Ve E-Posta Yonetimi': 50, 'Is Modeli Ve Deger Onerisi (Uzaktan Egitim)': 51, 'It Help Desk': 52, 'Java Programlama 1 (Nesne Tabanli Programlama)': 53, 'Javascript Ile Web Arayuz Programciligina Giris': 54, 'Kisisel Gelisim Plani Olusturma (Uzaktan Egitim)': 55, 'Kodlama Egitimi (12-16 Yas Egitimi)': 56, 'Ofis Personeli Egitimi': 57, 'Ofis Programlari Kullanimi': 58, 'Ofis Programlari Kullanimi (12-16 Yas Egitimi)': 59, 'Ogrenme Cevikligi (Uzaktan Egitim)': 60, 'Opencart E-Ticaret Egitimi': 61, 'Opencart Ile E-Ticaret Sitesi Yapimi': 62, 'Photoshop Ile Web Arayuz Tasarimi (Uzaktan Egitim)': 63, 'Php Programlama (Internet Programciligi)': 64, 'Powerpoint 2019 Kullanimi': 65, 'Powerpoint Ile Sunum Hazirlama Teknikleri (12-16 Yas Egitimi)': 66, 'Python Programlama 1 (Temel Egitim)': 67, 'Python Programlamaya Giris': 68, 'Robotik Kodlama Workshop': 69, 'Sanallastirma Teknolojileri Ve Bulut Mimarileri Semineri': 70, 'Sistem Dusuncesi (Uzaktan Egitim)': 71, 'Sosyal Medya Kullanimi': 72, \"Spiga'Da Dijital Donusum (Uzaktan Egitim)\": 73, 'Sql Server Ile Temel Veri Tabani Tasarimi': 74, 'Tasarim Odakli Dusunce (Uzaktan Egitim)': 75, 'Temel Bilgisayar Kullanimi': 76, 'Temel Excel Egitimi': 77, 'Temel Html Egitimi (Uzaktan Egitim - Canli Ders)': 78, 'Temel Veritabani Tasarimi': 79, 'Uygulamalarla Ileri Excel Formulleri': 80, 'Uygulamali Dijital Pazarlama Reklamciligi': 81, 'Uygulamali Sosyal Medya Reklamciligi': 82, 'Veri Analizi Ve Raporlama Uzmanligi': 83, 'Veri Kurtarma Ve Sistem Yedekleme': 84, 'Video Ve Sunum Hazirlama Teknikleri': 85, 'Vmware Ile Sanal Isletim Sistemleri, Sunucu Kurulumu Ve Sistem Yedekleme': 86, 'Web Tabanli Icerik Yonetim Sistemleri (Wordpress Egitimi)': 87, 'Web Tasarim Gelistirme 1 (Photoshop Ile Web Arayuz Tasarimi)': 88, 'Web Tasarim Gelistirme 2 (Html5 Ve Css3 Ile Mobil Uyumlu-Responsive Kodlama)': 89, 'Web Tasarim Gelistirme 3 (Bootstrap Css Framework Ile Kodlama)': 90, 'Web Tasarim Icin Photoshop Temelleri': 91, 'Web Tasarimi': 92, 'Word 2019 Kullanimi': 93, 'Word Ile Akademik Dokuman (Tez) Hazirlama': 94, 'Wordpress 1 / Web Sitesi Yapimi': 95, 'Wordpress 2 / Seo Teknikleri': 96, 'Wordpress Ile Web Sitesi Yapimi (Uzaktan Egitim - Canli Ders)': 97, 'Yikici Yenilik Ve Yalin Girisim (Uzaktan Egitim)': 98}\n"
     ]
    }
   ],
   "source": [
    "df_bilisim, target_mapping = label_encoding(df_bilisim, 'program')"
   ]
  },
  {
   "cell_type": "code",
   "execution_count": 77,
   "id": "b269195e-fd7e-4c4b-89b8-b72a5db65842",
   "metadata": {},
   "outputs": [
    {
     "data": {
      "text/html": [
       "<div>\n",
       "<style scoped>\n",
       "    .dataframe tbody tr th:only-of-type {\n",
       "        vertical-align: middle;\n",
       "    }\n",
       "\n",
       "    .dataframe tbody tr th {\n",
       "        vertical-align: top;\n",
       "    }\n",
       "\n",
       "    .dataframe thead th {\n",
       "        text-align: right;\n",
       "    }\n",
       "</style>\n",
       "<table border=\"1\" class=\"dataframe\">\n",
       "  <thead>\n",
       "    <tr style=\"text-align: right;\">\n",
       "      <th></th>\n",
       "      <th>egitim_durumu</th>\n",
       "      <th>calisma_durumu</th>\n",
       "      <th>program</th>\n",
       "      <th>hak_edilen_belge_tipi</th>\n",
       "      <th>kurs_merkezi</th>\n",
       "      <th>kurs_merkezi_ilcesi</th>\n",
       "      <th>tercih_sebebi</th>\n",
       "      <th>yas_araligi</th>\n",
       "    </tr>\n",
       "  </thead>\n",
       "  <tbody>\n",
       "    <tr>\n",
       "      <th>0</th>\n",
       "      <td>3</td>\n",
       "      <td>4</td>\n",
       "      <td>65</td>\n",
       "      <td>0</td>\n",
       "      <td>86</td>\n",
       "      <td>12</td>\n",
       "      <td>0</td>\n",
       "      <td>1</td>\n",
       "    </tr>\n",
       "    <tr>\n",
       "      <th>1</th>\n",
       "      <td>3</td>\n",
       "      <td>4</td>\n",
       "      <td>16</td>\n",
       "      <td>1</td>\n",
       "      <td>86</td>\n",
       "      <td>12</td>\n",
       "      <td>0</td>\n",
       "      <td>1</td>\n",
       "    </tr>\n",
       "    <tr>\n",
       "      <th>2</th>\n",
       "      <td>8</td>\n",
       "      <td>4</td>\n",
       "      <td>3</td>\n",
       "      <td>0</td>\n",
       "      <td>86</td>\n",
       "      <td>12</td>\n",
       "      <td>0</td>\n",
       "      <td>1</td>\n",
       "    </tr>\n",
       "  </tbody>\n",
       "</table>\n",
       "</div>"
      ],
      "text/plain": [
       "   egitim_durumu  calisma_durumu  program  hak_edilen_belge_tipi  \\\n",
       "0              3               4       65                      0   \n",
       "1              3               4       16                      1   \n",
       "2              8               4        3                      0   \n",
       "\n",
       "   kurs_merkezi  kurs_merkezi_ilcesi  tercih_sebebi  yas_araligi  \n",
       "0            86                   12              0            1  \n",
       "1            86                   12              0            1  \n",
       "2            86                   12              0            1  "
      ]
     },
     "execution_count": 77,
     "metadata": {},
     "output_type": "execute_result"
    }
   ],
   "source": [
    "df_bilisim.head(3)"
   ]
  },
  {
   "cell_type": "code",
   "execution_count": 78,
   "id": "7feab197-840b-4d98-a79f-b342d98158c6",
   "metadata": {},
   "outputs": [],
   "source": [
    "X, y = get_X_y(df_bilisim, target = 'program')"
   ]
  },
  {
   "cell_type": "code",
   "execution_count": 79,
   "id": "d5b68af3-93f1-4786-98c0-e480ba47bd11",
   "metadata": {},
   "outputs": [
    {
     "data": {
      "text/plain": [
       "((71664, 7), (71664,), (17916, 7), (17916,))"
      ]
     },
     "execution_count": 79,
     "metadata": {},
     "output_type": "execute_result"
    }
   ],
   "source": [
    "X_train, X_test,y_train, y_test = train_test_split(X,y ,\n",
    "                               random_state=seed, \n",
    "                               test_size=0.2, \n",
    "                               shuffle=True,\n",
    "                               stratify=y)\n",
    "    \n",
    "X_train.shape , y_train.shape, X_test.shape, y_test.shape\n"
   ]
  },
  {
   "cell_type": "markdown",
   "id": "cadcbe6c-4f7d-4df8-9b8f-55ea7884dc52",
   "metadata": {},
   "source": [
    "### DecisionTreeClassifier"
   ]
  },
  {
   "cell_type": "code",
   "execution_count": 80,
   "id": "6fa4fa9b-91bb-45df-ac4c-a5d55a412431",
   "metadata": {},
   "outputs": [],
   "source": [
    "dtc_model = DecisionTreeClassifier()"
   ]
  },
  {
   "cell_type": "code",
   "execution_count": 81,
   "id": "5818f93f-e6e9-4183-86a8-ed5b0f97b04b",
   "metadata": {},
   "outputs": [
    {
     "data": {
      "text/plain": [
       "DecisionTreeClassifier()"
      ]
     },
     "execution_count": 81,
     "metadata": {},
     "output_type": "execute_result"
    }
   ],
   "source": [
    "dtc_model.fit(X_train, y_train)"
   ]
  },
  {
   "cell_type": "code",
   "execution_count": 82,
   "id": "8b8b7419-315c-46d7-a030-8a0d21ed4899",
   "metadata": {},
   "outputs": [
    {
     "data": {
      "text/plain": [
       "0.15924313462826523"
      ]
     },
     "execution_count": 82,
     "metadata": {},
     "output_type": "execute_result"
    }
   ],
   "source": [
    "dtc_model.score(X_test, y_test) "
   ]
  },
  {
   "cell_type": "code",
   "execution_count": 83,
   "id": "c425cc3e-fee5-491d-bf9a-1cdc4a2e41a2",
   "metadata": {},
   "outputs": [],
   "source": [
    "y_pred  = dtc_model.predict(X_test)\n",
    "y_pred_proba = dtc_model.predict_proba(X_test)[::,1]"
   ]
  },
  {
   "cell_type": "markdown",
   "id": "a9632e00-63d1-4597-95de-19f0f0727e64",
   "metadata": {},
   "source": [
    "#### Confusion Matrix"
   ]
  },
  {
   "cell_type": "code",
   "execution_count": 84,
   "id": "4b55911d-3516-4204-80e4-a1abb11784f4",
   "metadata": {
    "tags": []
   },
   "outputs": [],
   "source": [
    "# ConfusionMatrixDisplay.from_predictions(y_test, y_pred) # There are too many programs.\n",
    "plt.show()"
   ]
  },
  {
   "cell_type": "markdown",
   "id": "5bed3694-3475-410a-a16a-0a09a4482cae",
   "metadata": {},
   "source": [
    "#### Classification Report"
   ]
  },
  {
   "cell_type": "code",
   "execution_count": 85,
   "id": "87a1bd7b-430b-4b4f-aff2-940dba79fa02",
   "metadata": {
    "tags": []
   },
   "outputs": [
    {
     "name": "stdout",
     "output_type": "stream",
     "text": [
      "              precision    recall  f1-score   support\n",
      "\n",
      "           0       0.00      0.00      0.00        98\n",
      "           1       0.00      0.00      0.00       146\n",
      "           2       0.08      0.04      0.05        24\n",
      "           3       0.13      0.19      0.16      1648\n",
      "           4       0.00      0.00      0.00        10\n",
      "           5       0.00      0.00      0.00         3\n",
      "           6       0.00      0.00      0.00       108\n",
      "           7       0.33      0.20      0.25         5\n",
      "           8       0.09      0.08      0.08        13\n",
      "           9       0.00      0.00      0.00         6\n",
      "          10       0.00      0.00      0.00         3\n",
      "          11       0.73      0.77      0.75       632\n",
      "          12       0.23      0.30      0.26        10\n",
      "          13       0.08      0.08      0.08        12\n",
      "          14       0.24      0.22      0.23        46\n",
      "          15       0.00      0.00      0.00         3\n",
      "          16       0.14      0.18      0.16       902\n",
      "          17       0.07      0.00      0.00       499\n",
      "          18       0.00      0.00      0.00       232\n",
      "          19       0.00      0.00      0.00       246\n",
      "          20       0.08      0.00      0.01       248\n",
      "          21       0.09      0.01      0.01       150\n",
      "          22       0.00      0.00      0.00        85\n",
      "          23       0.00      0.00      0.00       130\n",
      "          24       0.00      0.00      0.00       115\n",
      "          25       1.00      0.50      0.67         2\n",
      "          26       0.25      0.58      0.35        19\n",
      "          27       0.09      0.02      0.03       471\n",
      "          28       0.00      0.00      0.00         5\n",
      "          29       0.00      0.00      0.00         3\n",
      "          30       0.00      0.00      0.00       104\n",
      "          31       0.00      0.00      0.00       104\n",
      "          32       0.00      0.00      0.00       104\n",
      "          33       0.00      0.00      0.00        12\n",
      "          34       0.00      0.00      0.00       104\n",
      "          35       0.04      0.01      0.01       452\n",
      "          36       0.00      0.00      0.00       408\n",
      "          37       0.00      0.00      0.00       337\n",
      "          38       0.00      0.00      0.00       168\n",
      "          39       0.13      0.83      0.23      1914\n",
      "          40       0.21      0.50      0.30        78\n",
      "          41       0.20      0.39      0.26        31\n",
      "          42       0.00      0.00      0.00         6\n",
      "          43       0.00      0.00      0.00       511\n",
      "          44       0.00      0.00      0.00       104\n",
      "          45       0.00      0.00      0.00       104\n",
      "          46       0.04      0.05      0.04        22\n",
      "          47       0.00      0.00      0.00         3\n",
      "          48       1.00      1.00      1.00         2\n",
      "          49       0.55      0.58      0.56        76\n",
      "          50       0.00      0.00      0.00        10\n",
      "          51       0.00      0.00      0.00        49\n",
      "          52       0.00      0.00      0.00         3\n",
      "          53       0.00      0.00      0.00        16\n",
      "          54       0.00      0.00      0.00        10\n",
      "          55       0.00      0.00      0.00        51\n",
      "          56       0.25      0.67      0.36         3\n",
      "          57       1.00      0.50      0.67         2\n",
      "          58       0.40      0.33      0.36       222\n",
      "          59       0.50      0.33      0.40         3\n",
      "          60       0.00      0.00      0.00       104\n",
      "          61       0.00      0.00      0.00         6\n",
      "          62       0.04      0.01      0.01       434\n",
      "          63       0.02      0.00      0.00       696\n",
      "          64       0.50      0.10      0.17        10\n",
      "          65       0.04      0.00      0.01       708\n",
      "          66       0.20      0.33      0.25         3\n",
      "          67       0.00      0.00      0.00         9\n",
      "          68       0.00      0.00      0.00       381\n",
      "          69       0.83      1.00      0.91         5\n",
      "          70       0.33      0.09      0.14        11\n",
      "          71       0.00      0.00      0.00       104\n",
      "          72       0.00      0.00      0.00         2\n",
      "          73       0.00      0.00      0.00       104\n",
      "          74       0.00      0.00      0.00       280\n",
      "          75       0.00      0.00      0.00       104\n",
      "          76       1.00      1.00      1.00         2\n",
      "          77       0.83      0.33      0.48        15\n",
      "          78       0.00      0.00      0.00         5\n",
      "          79       0.00      0.00      0.00         8\n",
      "          80       0.00      0.00      0.00       804\n",
      "          81       0.10      0.09      0.09        35\n",
      "          82       0.10      0.08      0.09        26\n",
      "          83       0.80      0.80      0.80         5\n",
      "          84       0.00      0.00      0.00         2\n",
      "          85       0.40      0.12      0.19        16\n",
      "          86       0.00      0.00      0.00       214\n",
      "          87       0.40      0.36      0.38        22\n",
      "          88       0.35      0.32      0.34        78\n",
      "          89       0.12      0.07      0.09        42\n",
      "          90       0.00      0.00      0.00        31\n",
      "          91       0.00      0.00      0.00       635\n",
      "          92       0.33      0.38      0.36        34\n",
      "          93       0.00      0.00      0.00       575\n",
      "          94       0.09      0.01      0.02       518\n",
      "          95       0.05      0.00      0.01       612\n",
      "          96       0.00      0.00      0.00       281\n",
      "          97       0.00      0.00      0.00         4\n",
      "          98       0.00      0.00      0.00       104\n",
      "\n",
      "    accuracy                           0.16     17916\n",
      "   macro avg       0.15      0.14      0.13     17916\n",
      "weighted avg       0.09      0.16      0.09     17916\n",
      "\n"
     ]
    },
    {
     "name": "stderr",
     "output_type": "stream",
     "text": [
      "C:\\Users\\Administrator\\anaconda3\\lib\\site-packages\\sklearn\\metrics\\_classification.py:1318: UndefinedMetricWarning: Precision and F-score are ill-defined and being set to 0.0 in labels with no predicted samples. Use `zero_division` parameter to control this behavior.\n",
      "C:\\Users\\Administrator\\anaconda3\\lib\\site-packages\\sklearn\\metrics\\_classification.py:1318: UndefinedMetricWarning: Precision and F-score are ill-defined and being set to 0.0 in labels with no predicted samples. Use `zero_division` parameter to control this behavior.\n",
      "C:\\Users\\Administrator\\anaconda3\\lib\\site-packages\\sklearn\\metrics\\_classification.py:1318: UndefinedMetricWarning: Precision and F-score are ill-defined and being set to 0.0 in labels with no predicted samples. Use `zero_division` parameter to control this behavior.\n"
     ]
    }
   ],
   "source": [
    "print(classification_report(y_test,y_pred))"
   ]
  },
  {
   "cell_type": "markdown",
   "id": "41a18fa2-8d58-4538-bcb2-caa47a4ae59c",
   "metadata": {},
   "source": [
    "#### Plot importance"
   ]
  },
  {
   "cell_type": "code",
   "execution_count": 87,
   "id": "9d8f4dad-2607-47cf-8a95-fae87824cf74",
   "metadata": {},
   "outputs": [
    {
     "data": {
      "text/plain": [
       "<AxesSubplot:>"
      ]
     },
     "execution_count": 87,
     "metadata": {},
     "output_type": "execute_result"
    },
    {
     "data": {
      "image/png": "[encoded data removed]",
      "text/plain": [
       "<Figure size 432x288 with 1 Axes>"
      ]
     },
     "metadata": {
      "needs_background": "light"
     },
     "output_type": "display_data"
    }
   ],
   "source": [
    "feat_importances = pd.Series(dtc_model.feature_importances_, index=df_bilisim.columns)\n",
    "feat_importances.sort_values(ascending= False).plot(kind='barh')"
   ]
  },
  {
   "cell_type": "markdown",
   "id": "aede0638-2a7f-43be-9094-c8a8931ab7ac",
   "metadata": {},
   "source": [
    "## Spor"
   ]
  },
  {
   "cell_type": "code",
   "execution_count": 88,
   "id": "028bee70-3029-4a24-b021-dd66c328a434",
   "metadata": {},
   "outputs": [],
   "source": [
    "df_spor = get_selected_info(df,'alan', ['Spor'])"
   ]
  },
  {
   "cell_type": "code",
   "execution_count": 89,
   "id": "9a2e2d38-c131-49c8-bd2c-7b196b8113f8",
   "metadata": {},
   "outputs": [],
   "source": [
    "del df_spor['alan']\n",
    "# del df_top_areas['program']\n",
    "# del df_online['kurs_merkezi_ilcesi']"
   ]
  },
  {
   "cell_type": "code",
   "execution_count": null,
   "id": "08edabe8-9f75-485c-a583-84fd6e467697",
   "metadata": {},
   "outputs": [],
   "source": []
  },
  {
   "cell_type": "code",
   "execution_count": 90,
   "id": "106e8e03-9a51-4287-8758-f485a62cfda8",
   "metadata": {},
   "outputs": [
    {
     "data": {
      "text/plain": [
       "(23254, 8)"
      ]
     },
     "execution_count": 90,
     "metadata": {},
     "output_type": "execute_result"
    }
   ],
   "source": [
    "df_spor.shape"
   ]
  },
  {
   "cell_type": "code",
   "execution_count": 91,
   "id": "68d9bf19-3625-4e00-bb5a-f7fb683c02c7",
   "metadata": {},
   "outputs": [
    {
     "data": {
      "text/plain": [
       "Fitness (Kadin)       6622\n",
       "Fitness (Erkek)       5267\n",
       "Pilates 1. Seviye     5078\n",
       "Aerobik               4001\n",
       "Crunch (Kadin)        1598\n",
       "Stretching (Kadin)     688\n",
       "Name: program, dtype: int64"
      ]
     },
     "execution_count": 91,
     "metadata": {},
     "output_type": "execute_result"
    }
   ],
   "source": [
    "df_spor.program.value_counts()[:15]"
   ]
  },
  {
   "cell_type": "code",
   "execution_count": 92,
   "id": "603868b7-a9f5-4da8-9324-554642573401",
   "metadata": {
    "tags": []
   },
   "outputs": [
    {
     "name": "stdout",
     "output_type": "stream",
     "text": [
      "{'Aerobik': 0, 'Crunch (Kadin)': 1, 'Fitness (Erkek)': 2, 'Fitness (Kadin)': 3, 'Pilates 1. Seviye': 4, 'Stretching (Kadin)': 5}\n"
     ]
    }
   ],
   "source": [
    "df_spor, target_mapping = label_encoding(df_spor, 'program')"
   ]
  },
  {
   "cell_type": "code",
   "execution_count": 93,
   "id": "f1f14485-f266-4dc2-bcf7-7d0eedc4937d",
   "metadata": {},
   "outputs": [
    {
     "data": {
      "text/html": [
       "<div>\n",
       "<style scoped>\n",
       "    .dataframe tbody tr th:only-of-type {\n",
       "        vertical-align: middle;\n",
       "    }\n",
       "\n",
       "    .dataframe tbody tr th {\n",
       "        vertical-align: top;\n",
       "    }\n",
       "\n",
       "    .dataframe thead th {\n",
       "        text-align: right;\n",
       "    }\n",
       "</style>\n",
       "<table border=\"1\" class=\"dataframe\">\n",
       "  <thead>\n",
       "    <tr style=\"text-align: right;\">\n",
       "      <th></th>\n",
       "      <th>egitim_durumu</th>\n",
       "      <th>calisma_durumu</th>\n",
       "      <th>program</th>\n",
       "      <th>hak_edilen_belge_tipi</th>\n",
       "      <th>kurs_merkezi</th>\n",
       "      <th>kurs_merkezi_ilcesi</th>\n",
       "      <th>tercih_sebebi</th>\n",
       "      <th>yas_araligi</th>\n",
       "    </tr>\n",
       "  </thead>\n",
       "  <tbody>\n",
       "    <tr>\n",
       "      <th>0</th>\n",
       "      <td>4</td>\n",
       "      <td>2</td>\n",
       "      <td>3</td>\n",
       "      <td>1</td>\n",
       "      <td>19</td>\n",
       "      <td>13</td>\n",
       "      <td>1</td>\n",
       "      <td>1</td>\n",
       "    </tr>\n",
       "    <tr>\n",
       "      <th>1</th>\n",
       "      <td>3</td>\n",
       "      <td>4</td>\n",
       "      <td>1</td>\n",
       "      <td>0</td>\n",
       "      <td>1</td>\n",
       "      <td>0</td>\n",
       "      <td>1</td>\n",
       "      <td>0</td>\n",
       "    </tr>\n",
       "    <tr>\n",
       "      <th>2</th>\n",
       "      <td>3</td>\n",
       "      <td>4</td>\n",
       "      <td>5</td>\n",
       "      <td>0</td>\n",
       "      <td>1</td>\n",
       "      <td>0</td>\n",
       "      <td>1</td>\n",
       "      <td>0</td>\n",
       "    </tr>\n",
       "  </tbody>\n",
       "</table>\n",
       "</div>"
      ],
      "text/plain": [
       "   egitim_durumu  calisma_durumu  program  hak_edilen_belge_tipi  \\\n",
       "0              4               2        3                      1   \n",
       "1              3               4        1                      0   \n",
       "2              3               4        5                      0   \n",
       "\n",
       "   kurs_merkezi  kurs_merkezi_ilcesi  tercih_sebebi  yas_araligi  \n",
       "0            19                   13              1            1  \n",
       "1             1                    0              1            0  \n",
       "2             1                    0              1            0  "
      ]
     },
     "execution_count": 93,
     "metadata": {},
     "output_type": "execute_result"
    }
   ],
   "source": [
    "df_spor.head(3)"
   ]
  },
  {
   "cell_type": "code",
   "execution_count": 94,
   "id": "af082c84-9b28-4504-940b-73662208dee4",
   "metadata": {},
   "outputs": [],
   "source": [
    "X, y = get_X_y(df_spor, target = 'program')"
   ]
  },
  {
   "cell_type": "code",
   "execution_count": 95,
   "id": "b0283e10-d1ff-44d2-acf8-2adbdf6d1d3d",
   "metadata": {},
   "outputs": [
    {
     "data": {
      "text/plain": [
       "((18603, 7), (18603,), (4651, 7), (4651,))"
      ]
     },
     "execution_count": 95,
     "metadata": {},
     "output_type": "execute_result"
    }
   ],
   "source": [
    "X_train, X_test,y_train, y_test = train_test_split(X,y ,\n",
    "                               random_state=seed, \n",
    "                               test_size=0.2, \n",
    "                               shuffle=True,\n",
    "                               stratify=y)\n",
    "    \n",
    "X_train.shape , y_train.shape, X_test.shape, y_test.shape\n"
   ]
  },
  {
   "cell_type": "markdown",
   "id": "4263ef84-d1a8-4603-9bc7-9321bca85f61",
   "metadata": {},
   "source": [
    "### XGBClassifier"
   ]
  },
  {
   "cell_type": "code",
   "execution_count": 96,
   "id": "c59fd0a1-c1c8-4bd7-a861-4749ee713d03",
   "metadata": {},
   "outputs": [],
   "source": [
    "model = XGBClassifier() "
   ]
  },
  {
   "cell_type": "code",
   "execution_count": 97,
   "id": "f5e611cf-7f85-45db-b1a7-35309c6c0045",
   "metadata": {},
   "outputs": [
    {
     "data": {
      "text/plain": [
       "XGBClassifier(base_score=0.5, booster='gbtree', callbacks=None,\n",
       "              colsample_bylevel=1, colsample_bynode=1, colsample_bytree=1,\n",
       "              early_stopping_rounds=None, enable_categorical=False,\n",
       "              eval_metric=None, feature_types=None, gamma=0, gpu_id=-1,\n",
       "              grow_policy='depthwise', importance_type=None,\n",
       "              interaction_constraints='', learning_rate=0.300000012,\n",
       "              max_bin=256, max_cat_threshold=64, max_cat_to_onehot=4,\n",
       "              max_delta_step=0, max_depth=6, max_leaves=0, min_child_weight=1,\n",
       "              missing=nan, monotone_constraints='()', n_estimators=100,\n",
       "              n_jobs=0, num_parallel_tree=1, objective='multi:softprob',\n",
       "              predictor='auto', ...)"
      ]
     },
     "execution_count": 97,
     "metadata": {},
     "output_type": "execute_result"
    }
   ],
   "source": [
    "model.fit(X_train, y_train)"
   ]
  },
  {
   "cell_type": "code",
   "execution_count": 98,
   "id": "6a70f68c-81c8-4743-b7f8-8181fc8bd66e",
   "metadata": {},
   "outputs": [
    {
     "data": {
      "text/plain": [
       "0.4889271124489357"
      ]
     },
     "execution_count": 98,
     "metadata": {},
     "output_type": "execute_result"
    }
   ],
   "source": [
    "model.score(X_test, y_test) "
   ]
  },
  {
   "cell_type": "code",
   "execution_count": 99,
   "id": "9b90f85c-c08f-4bbe-b6c1-d66be136e814",
   "metadata": {},
   "outputs": [],
   "source": [
    "y_pred  = model.predict(X_test)\n",
    "y_pred_proba = model.predict_proba(X_test)[::,1]"
   ]
  },
  {
   "cell_type": "markdown",
   "id": "bd1e1d0c-70be-456a-afe0-78bff4967f41",
   "metadata": {},
   "source": [
    "#### Confusion Matrix"
   ]
  },
  {
   "cell_type": "code",
   "execution_count": 100,
   "id": "a9542374-0617-44f4-9e7b-6b9e20c34141",
   "metadata": {
    "tags": []
   },
   "outputs": [],
   "source": [
    "# ConfusionMatrixDisplay.from_predictions(y_test, y_pred) # There are too many programs.\n",
    "plt.show()"
   ]
  },
  {
   "cell_type": "markdown",
   "id": "1e881909-a0ee-4ab2-a35e-ebc5d6cdc39c",
   "metadata": {},
   "source": [
    "#### Classification Report"
   ]
  },
  {
   "cell_type": "code",
   "execution_count": 101,
   "id": "df2f1c3f-7d62-4da4-8613-22cb42f6d665",
   "metadata": {
    "tags": []
   },
   "outputs": [
    {
     "name": "stdout",
     "output_type": "stream",
     "text": [
      "              precision    recall  f1-score   support\n",
      "\n",
      "           0       0.43      0.21      0.28       800\n",
      "           1       0.20      0.06      0.10       320\n",
      "           2       0.62      0.79      0.69      1053\n",
      "           3       0.46      0.74      0.57      1324\n",
      "           4       0.42      0.25      0.32      1016\n",
      "           5       0.22      0.09      0.13       138\n",
      "\n",
      "    accuracy                           0.49      4651\n",
      "   macro avg       0.39      0.36      0.35      4651\n",
      "weighted avg       0.46      0.49      0.45      4651\n",
      "\n"
     ]
    }
   ],
   "source": [
    "print(classification_report(y_test,y_pred))"
   ]
  },
  {
   "cell_type": "code",
   "execution_count": 102,
   "id": "3de55d76-59ec-471c-bfe4-a57813afdc98",
   "metadata": {},
   "outputs": [
    {
     "data": {
      "text/plain": [
       "{'Aerobik': 0,\n",
       " 'Crunch (Kadin)': 1,\n",
       " 'Fitness (Erkek)': 2,\n",
       " 'Fitness (Kadin)': 3,\n",
       " 'Pilates 1. Seviye': 4,\n",
       " 'Stretching (Kadin)': 5}"
      ]
     },
     "execution_count": 102,
     "metadata": {},
     "output_type": "execute_result"
    }
   ],
   "source": [
    "target_mapping"
   ]
  },
  {
   "cell_type": "markdown",
   "id": "25ea1550-b9e7-4c77-bb45-3dbcf1ea3c57",
   "metadata": {},
   "source": [
    "#### Plot importance"
   ]
  },
  {
   "cell_type": "code",
   "execution_count": 103,
   "id": "ac14c318-fca1-4964-9d57-3f6aa89c6a7d",
   "metadata": {},
   "outputs": [
    {
     "data": {
      "text/plain": [
       "<AxesSubplot:>"
      ]
     },
     "execution_count": 103,
     "metadata": {},
     "output_type": "execute_result"
    },
    {
     "data": {
      "image/png": "[encoded data removed]",
      "text/plain": [
       "<Figure size 432x288 with 1 Axes>"
      ]
     },
     "metadata": {
      "needs_background": "light"
     },
     "output_type": "display_data"
    }
   ],
   "source": [
    "feat_importances = pd.Series(model.feature_importances_, index=df_spor.columns)\n",
    "feat_importances.sort_values(ascending= False).plot(kind='barh')"
   ]
  },
  {
   "cell_type": "markdown",
   "id": "1898fe4f-df0e-42aa-b1a7-d6ef752016a1",
   "metadata": {},
   "source": [
    "- Genel olarak bu sekilde bir program tahminlemesi yapilmada mumkun gorunmuyor\n",
    "- Belki ihtimal dahlinde tavsiye verilebilir."
   ]
  },
  {
   "cell_type": "code",
   "execution_count": null,
   "id": "87a3bec3-b11e-4f6c-8016-d84c71a411cf",
   "metadata": {},
   "outputs": [],
   "source": []
  },
  {
   "cell_type": "code",
   "execution_count": null,
   "id": "41fbb005-1187-43a4-8c63-d99e85939d55",
   "metadata": {},
   "outputs": [],
   "source": []
  }
 ],
 "metadata": {
  "kernelspec": {
   "display_name": "Python 3 (ipykernel)",
   "language": "python",
   "name": "python3"
  },
  "language_info": {
   "codemirror_mode": {
    "name": "ipython",
    "version": 3
   },
   "file_extension": ".py",
   "mimetype": "text/x-python",
   "name": "python",
   "nbconvert_exporter": "python",
   "pygments_lexer": "ipython3",
   "version": "3.9.12"
  }
 },
 "nbformat": 4,
 "nbformat_minor": 5
}
